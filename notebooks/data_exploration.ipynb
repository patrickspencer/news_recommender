{
 "cells": [
  {
   "cell_type": "code",
   "execution_count": 2,
   "metadata": {},
   "outputs": [],
   "source": [
    "import pandas as pd\n",
    "%matplotlib inline"
   ]
  },
  {
   "cell_type": "code",
   "execution_count": 3,
   "metadata": {},
   "outputs": [],
   "source": [
    "article_user_data = 'data/article_user.csv'\n",
    "article_user = pd.read_csv(article_user_data)\n",
    "articles_data = 'data/articles.csv'\n",
    "articles = pd.read_csv(articles_data)"
   ]
  },
  {
   "cell_type": "code",
   "execution_count": 6,
   "metadata": {},
   "outputs": [
    {
     "data": {
      "text/plain": [
       "'/Users/patrick/Dropbox/programming/cnn_take_home_api'"
      ]
     },
     "execution_count": 6,
     "metadata": {},
     "output_type": "execute_result"
    }
   ],
   "source": [
    "pwd()"
   ]
  },
  {
   "cell_type": "code",
   "execution_count": 12,
   "metadata": {},
   "outputs": [],
   "source": [
    "articles.head().to_csv('articles_sample.csv')"
   ]
  },
  {
   "cell_type": "code",
   "execution_count": 11,
   "metadata": {},
   "outputs": [
    {
     "data": {
      "text/html": [
       "<div>\n",
       "<style scoped>\n",
       "    .dataframe tbody tr th:only-of-type {\n",
       "        vertical-align: middle;\n",
       "    }\n",
       "\n",
       "    .dataframe tbody tr th {\n",
       "        vertical-align: top;\n",
       "    }\n",
       "\n",
       "    .dataframe thead th {\n",
       "        text-align: right;\n",
       "    }\n",
       "</style>\n",
       "<table border=\"1\" class=\"dataframe\">\n",
       "  <thead>\n",
       "    <tr style=\"text-align: right;\">\n",
       "      <th></th>\n",
       "      <th>article_id</th>\n",
       "      <th>headline</th>\n",
       "      <th>url</th>\n",
       "      <th>published_date</th>\n",
       "    </tr>\n",
       "  </thead>\n",
       "  <tbody>\n",
       "    <tr>\n",
       "      <th>0</th>\n",
       "      <td>e9d06b2bb42bd9970de43beab2d3893534d7a619</td>\n",
       "      <td>Defense Department slams brakes on border wall...</td>\n",
       "      <td>https://www.cnn.com/2021/01/21/politics/border...</td>\n",
       "      <td>2021-01-21 21:45:03.000 Z</td>\n",
       "    </tr>\n",
       "    <tr>\n",
       "      <th>1</th>\n",
       "      <td>e98b0d02b16794bc0884a61c4a45746cb9430630</td>\n",
       "      <td>Biden's DOJ must confront what to do with outs...</td>\n",
       "      <td>https://www.cnn.com/2021/01/21/politics/donald...</td>\n",
       "      <td>2021-01-22 02:11:02.000 Z</td>\n",
       "    </tr>\n",
       "    <tr>\n",
       "      <th>2</th>\n",
       "      <td>05f51c586ada891448ab56d9a5c8adb2a688e2fb</td>\n",
       "      <td>White House wants Democrats to be patient on s...</td>\n",
       "      <td>https://www.cnn.com/2021/01/22/politics/covid-...</td>\n",
       "      <td>2021-01-22 21:53:55.000 Z</td>\n",
       "    </tr>\n",
       "    <tr>\n",
       "      <th>3</th>\n",
       "      <td>91333a3c6d28c9241cbb01678a97699232b79e70</td>\n",
       "      <td>The Supreme Court's run out of excuses to avoi...</td>\n",
       "      <td>https://www.cnn.com/2021/01/24/politics/suprem...</td>\n",
       "      <td>2021-01-24 18:42:26.000 Z</td>\n",
       "    </tr>\n",
       "    <tr>\n",
       "      <th>4</th>\n",
       "      <td>30170d08779c54b84170d4cb3b5cbe0462df704a</td>\n",
       "      <td>Evidence shows Capitol rioters brutally attack...</td>\n",
       "      <td>https://www.cnn.com/2021/01/21/politics/capito...</td>\n",
       "      <td>2021-01-21 12:45:30.000 Z</td>\n",
       "    </tr>\n",
       "  </tbody>\n",
       "</table>\n",
       "</div>"
      ],
      "text/plain": [
       "                                 article_id  \\\n",
       "0  e9d06b2bb42bd9970de43beab2d3893534d7a619   \n",
       "1  e98b0d02b16794bc0884a61c4a45746cb9430630   \n",
       "2  05f51c586ada891448ab56d9a5c8adb2a688e2fb   \n",
       "3  91333a3c6d28c9241cbb01678a97699232b79e70   \n",
       "4  30170d08779c54b84170d4cb3b5cbe0462df704a   \n",
       "\n",
       "                                            headline  \\\n",
       "0  Defense Department slams brakes on border wall...   \n",
       "1  Biden's DOJ must confront what to do with outs...   \n",
       "2  White House wants Democrats to be patient on s...   \n",
       "3  The Supreme Court's run out of excuses to avoi...   \n",
       "4  Evidence shows Capitol rioters brutally attack...   \n",
       "\n",
       "                                                 url  \\\n",
       "0  https://www.cnn.com/2021/01/21/politics/border...   \n",
       "1  https://www.cnn.com/2021/01/21/politics/donald...   \n",
       "2  https://www.cnn.com/2021/01/22/politics/covid-...   \n",
       "3  https://www.cnn.com/2021/01/24/politics/suprem...   \n",
       "4  https://www.cnn.com/2021/01/21/politics/capito...   \n",
       "\n",
       "              published_date  \n",
       "0  2021-01-21 21:45:03.000 Z  \n",
       "1  2021-01-22 02:11:02.000 Z  \n",
       "2  2021-01-22 21:53:55.000 Z  \n",
       "3  2021-01-24 18:42:26.000 Z  \n",
       "4  2021-01-21 12:45:30.000 Z  "
      ]
     },
     "execution_count": 11,
     "metadata": {},
     "output_type": "execute_result"
    }
   ],
   "source": [
    "articles.head()"
   ]
  },
  {
   "cell_type": "code",
   "execution_count": 6,
   "metadata": {},
   "outputs": [
    {
     "data": {
      "text/plain": [
       "50000"
      ]
     },
     "execution_count": 6,
     "metadata": {},
     "output_type": "execute_result"
    }
   ],
   "source": [
    "len(article_user.user_id.unique())"
   ]
  },
  {
   "cell_type": "code",
   "execution_count": 7,
   "metadata": {},
   "outputs": [
    {
     "data": {
      "text/plain": [
       "1455"
      ]
     },
     "execution_count": 7,
     "metadata": {},
     "output_type": "execute_result"
    }
   ],
   "source": [
    "len(articles.article_id.unique())"
   ]
  },
  {
   "cell_type": "code",
   "execution_count": 9,
   "metadata": {},
   "outputs": [],
   "source": [
    "articles.head().to_csv('articles_sample.csv')"
   ]
  },
  {
   "cell_type": "code",
   "execution_count": 10,
   "metadata": {},
   "outputs": [
    {
     "data": {
      "text/html": [
       "<div>\n",
       "<style scoped>\n",
       "    .dataframe tbody tr th:only-of-type {\n",
       "        vertical-align: middle;\n",
       "    }\n",
       "\n",
       "    .dataframe tbody tr th {\n",
       "        vertical-align: top;\n",
       "    }\n",
       "\n",
       "    .dataframe thead th {\n",
       "        text-align: right;\n",
       "    }\n",
       "</style>\n",
       "<table border=\"1\" class=\"dataframe\">\n",
       "  <thead>\n",
       "    <tr style=\"text-align: right;\">\n",
       "      <th></th>\n",
       "      <th>user_id</th>\n",
       "      <th>article_id</th>\n",
       "      <th>timestamp</th>\n",
       "    </tr>\n",
       "  </thead>\n",
       "  <tbody>\n",
       "    <tr>\n",
       "      <th>0</th>\n",
       "      <td>2bc424123e0a12d29c488bb6e565fe98d0a49b46</td>\n",
       "      <td>e9d06b2bb42bd9970de43beab2d3893534d7a619</td>\n",
       "      <td>1611291180</td>\n",
       "    </tr>\n",
       "    <tr>\n",
       "      <th>1</th>\n",
       "      <td>2bc424123e0a12d29c488bb6e565fe98d0a49b46</td>\n",
       "      <td>e98b0d02b16794bc0884a61c4a45746cb9430630</td>\n",
       "      <td>1611290464</td>\n",
       "    </tr>\n",
       "    <tr>\n",
       "      <th>2</th>\n",
       "      <td>2bc424123e0a12d29c488bb6e565fe98d0a49b46</td>\n",
       "      <td>05f51c586ada891448ab56d9a5c8adb2a688e2fb</td>\n",
       "      <td>1611406104</td>\n",
       "    </tr>\n",
       "    <tr>\n",
       "      <th>3</th>\n",
       "      <td>2bc424123e0a12d29c488bb6e565fe98d0a49b46</td>\n",
       "      <td>91333a3c6d28c9241cbb01678a97699232b79e70</td>\n",
       "      <td>1611531797</td>\n",
       "    </tr>\n",
       "    <tr>\n",
       "      <th>4</th>\n",
       "      <td>2bc424123e0a12d29c488bb6e565fe98d0a49b46</td>\n",
       "      <td>30170d08779c54b84170d4cb3b5cbe0462df704a</td>\n",
       "      <td>1611270926</td>\n",
       "    </tr>\n",
       "    <tr>\n",
       "      <th>...</th>\n",
       "      <td>...</td>\n",
       "      <td>...</td>\n",
       "      <td>...</td>\n",
       "    </tr>\n",
       "    <tr>\n",
       "      <th>520225</th>\n",
       "      <td>a5960b8352e6605d3864bfbf39f9d0cf5a3e1d26</td>\n",
       "      <td>77e2fe5aa1b34a93491af7516ae6e12fc1d37b28</td>\n",
       "      <td>1611517200</td>\n",
       "    </tr>\n",
       "    <tr>\n",
       "      <th>520226</th>\n",
       "      <td>a5960b8352e6605d3864bfbf39f9d0cf5a3e1d26</td>\n",
       "      <td>eb0413f63ea5928aa27777494d3878a5bc505842</td>\n",
       "      <td>1611267374</td>\n",
       "    </tr>\n",
       "    <tr>\n",
       "      <th>520227</th>\n",
       "      <td>a5960b8352e6605d3864bfbf39f9d0cf5a3e1d26</td>\n",
       "      <td>62161f4a31f82ffedd53d4ac1ee5f554be959442</td>\n",
       "      <td>1611403946</td>\n",
       "    </tr>\n",
       "    <tr>\n",
       "      <th>520228</th>\n",
       "      <td>a5960b8352e6605d3864bfbf39f9d0cf5a3e1d26</td>\n",
       "      <td>77e2fe5aa1b34a93491af7516ae6e12fc1d37b28</td>\n",
       "      <td>1611524302</td>\n",
       "    </tr>\n",
       "    <tr>\n",
       "      <th>520229</th>\n",
       "      <td>a5960b8352e6605d3864bfbf39f9d0cf5a3e1d26</td>\n",
       "      <td>77e2fe5aa1b34a93491af7516ae6e12fc1d37b28</td>\n",
       "      <td>1611517331</td>\n",
       "    </tr>\n",
       "  </tbody>\n",
       "</table>\n",
       "<p>520230 rows × 3 columns</p>\n",
       "</div>"
      ],
      "text/plain": [
       "                                         user_id  \\\n",
       "0       2bc424123e0a12d29c488bb6e565fe98d0a49b46   \n",
       "1       2bc424123e0a12d29c488bb6e565fe98d0a49b46   \n",
       "2       2bc424123e0a12d29c488bb6e565fe98d0a49b46   \n",
       "3       2bc424123e0a12d29c488bb6e565fe98d0a49b46   \n",
       "4       2bc424123e0a12d29c488bb6e565fe98d0a49b46   \n",
       "...                                          ...   \n",
       "520225  a5960b8352e6605d3864bfbf39f9d0cf5a3e1d26   \n",
       "520226  a5960b8352e6605d3864bfbf39f9d0cf5a3e1d26   \n",
       "520227  a5960b8352e6605d3864bfbf39f9d0cf5a3e1d26   \n",
       "520228  a5960b8352e6605d3864bfbf39f9d0cf5a3e1d26   \n",
       "520229  a5960b8352e6605d3864bfbf39f9d0cf5a3e1d26   \n",
       "\n",
       "                                      article_id   timestamp  \n",
       "0       e9d06b2bb42bd9970de43beab2d3893534d7a619  1611291180  \n",
       "1       e98b0d02b16794bc0884a61c4a45746cb9430630  1611290464  \n",
       "2       05f51c586ada891448ab56d9a5c8adb2a688e2fb  1611406104  \n",
       "3       91333a3c6d28c9241cbb01678a97699232b79e70  1611531797  \n",
       "4       30170d08779c54b84170d4cb3b5cbe0462df704a  1611270926  \n",
       "...                                          ...         ...  \n",
       "520225  77e2fe5aa1b34a93491af7516ae6e12fc1d37b28  1611517200  \n",
       "520226  eb0413f63ea5928aa27777494d3878a5bc505842  1611267374  \n",
       "520227  62161f4a31f82ffedd53d4ac1ee5f554be959442  1611403946  \n",
       "520228  77e2fe5aa1b34a93491af7516ae6e12fc1d37b28  1611524302  \n",
       "520229  77e2fe5aa1b34a93491af7516ae6e12fc1d37b28  1611517331  \n",
       "\n",
       "[520230 rows x 3 columns]"
      ]
     },
     "execution_count": 10,
     "metadata": {},
     "output_type": "execute_result"
    }
   ],
   "source": [
    "article_user"
   ]
  },
  {
   "cell_type": "code",
   "execution_count": 14,
   "metadata": {},
   "outputs": [],
   "source": [
    "df = pd.merge(article_user, articles)"
   ]
  },
  {
   "cell_type": "code",
   "execution_count": 17,
   "metadata": {},
   "outputs": [],
   "source": [
    "df.head().to_csv('merged.csv')"
   ]
  },
  {
   "cell_type": "code",
   "execution_count": 13,
   "metadata": {},
   "outputs": [
    {
     "data": {
      "text/plain": [
       "<AxesSubplot:>"
      ]
     },
     "execution_count": 13,
     "metadata": {},
     "output_type": "execute_result"
    },
    {
     "data": {
      "image/png": "[encoded data removed]",
      "text/plain": [
       "<Figure size 432x288 with 1 Axes>"
      ]
     },
     "metadata": {
      "needs_background": "light"
     },
     "output_type": "display_data"
    }
   ],
   "source": [
    "df['article_id'].hist()"
   ]
  },
  {
   "cell_type": "code",
   "execution_count": 15,
   "metadata": {},
   "outputs": [],
   "source": [
    "ranges = list(range(0, 11000, 1000))"
   ]
  },
  {
   "cell_type": "code",
   "execution_count": 13,
   "metadata": {},
   "outputs": [
    {
     "ename": "NameError",
     "evalue": "name 'df' is not defined",
     "output_type": "error",
     "traceback": [
      "\u001b[0;31m---------------------------------------------------------------------------\u001b[0m",
      "\u001b[0;31mNameError\u001b[0m                                 Traceback (most recent call last)",
      "\u001b[0;32m<ipython-input-13-f4bc52f54d19>\u001b[0m in \u001b[0;36m<module>\u001b[0;34m\u001b[0m\n\u001b[0;32m----> 1\u001b[0;31m \u001b[0mdf\u001b[0m\u001b[0;34m.\u001b[0m\u001b[0mgroupby\u001b[0m\u001b[0;34m(\u001b[0m\u001b[0mpd\u001b[0m\u001b[0;34m.\u001b[0m\u001b[0mcut\u001b[0m\u001b[0;34m(\u001b[0m\u001b[0mdf\u001b[0m\u001b[0;34m[\u001b[0m\u001b[0;34m'article_id'\u001b[0m\u001b[0;34m]\u001b[0m\u001b[0;34m,\u001b[0m \u001b[0mranges\u001b[0m\u001b[0;34m)\u001b[0m\u001b[0;34m)\u001b[0m\u001b[0;34m.\u001b[0m\u001b[0mcount\u001b[0m\u001b[0;34m(\u001b[0m\u001b[0;34m)\u001b[0m\u001b[0;34m\u001b[0m\u001b[0;34m\u001b[0m\u001b[0m\n\u001b[0m",
      "\u001b[0;31mNameError\u001b[0m: name 'df' is not defined"
     ]
    }
   ],
   "source": [
    "df.groupby(pd.cut(df['article_id'], ranges)).count()"
   ]
  },
  {
   "cell_type": "code",
   "execution_count": 23,
   "metadata": {},
   "outputs": [],
   "source": [
    "c = df['article_id'].value_counts().values"
   ]
  },
  {
   "cell_type": "code",
   "execution_count": 24,
   "metadata": {},
   "outputs": [],
   "source": [
    "d = pd.cut(c, ranges)"
   ]
  }
 ],
 "metadata": {
  "kernelspec": {
   "display_name": "Python 3",
   "language": "python",
   "name": "python3"
  },
  "language_info": {
   "codemirror_mode": {
    "name": "ipython",
    "version": 3
   },
   "file_extension": ".py",
   "mimetype": "text/x-python",
   "name": "python",
   "nbconvert_exporter": "python",
   "pygments_lexer": "ipython3",
   "version": "3.8.9"
  }
 },
 "nbformat": 4,
 "nbformat_minor": 2
}
