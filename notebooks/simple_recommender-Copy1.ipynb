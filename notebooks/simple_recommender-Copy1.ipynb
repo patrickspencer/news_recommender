{
 "cells": [
  {
   "cell_type": "code",
   "execution_count": 38,
   "metadata": {},
   "outputs": [],
   "source": [
    "import re\n",
    "import pandas as pd\n",
    "%matplotlib inline"
   ]
  },
  {
   "cell_type": "code",
   "execution_count": 39,
   "metadata": {},
   "outputs": [],
   "source": [
    "article_user_data = 'data/article_user.csv'\n",
    "article_user = pd.read_csv(article_user_data)\n",
    "articles_data = 'data/articles.csv'\n",
    "articles = pd.read_csv(articles_data)"
   ]
  },
  {
   "cell_type": "code",
   "execution_count": 40,
   "metadata": {},
   "outputs": [],
   "source": [
    "#articles.head().to_csv('articles_sample.csv')"
   ]
  },
  {
   "cell_type": "code",
   "execution_count": 41,
   "metadata": {},
   "outputs": [
    {
     "data": {
      "text/html": [
       "<div>\n",
       "<style scoped>\n",
       "    .dataframe tbody tr th:only-of-type {\n",
       "        vertical-align: middle;\n",
       "    }\n",
       "\n",
       "    .dataframe tbody tr th {\n",
       "        vertical-align: top;\n",
       "    }\n",
       "\n",
       "    .dataframe thead th {\n",
       "        text-align: right;\n",
       "    }\n",
       "</style>\n",
       "<table border=\"1\" class=\"dataframe\">\n",
       "  <thead>\n",
       "    <tr style=\"text-align: right;\">\n",
       "      <th></th>\n",
       "      <th>article_id</th>\n",
       "      <th>headline</th>\n",
       "      <th>url</th>\n",
       "      <th>published_date</th>\n",
       "    </tr>\n",
       "  </thead>\n",
       "  <tbody>\n",
       "    <tr>\n",
       "      <th>0</th>\n",
       "      <td>e9d06b2bb42bd9970de43beab2d3893534d7a619</td>\n",
       "      <td>Defense Department slams brakes on border wall...</td>\n",
       "      <td>https://www.cnn.com/2021/01/21/politics/border...</td>\n",
       "      <td>2021-01-21 21:45:03.000 Z</td>\n",
       "    </tr>\n",
       "    <tr>\n",
       "      <th>1</th>\n",
       "      <td>e98b0d02b16794bc0884a61c4a45746cb9430630</td>\n",
       "      <td>Biden's DOJ must confront what to do with outs...</td>\n",
       "      <td>https://www.cnn.com/2021/01/21/politics/donald...</td>\n",
       "      <td>2021-01-22 02:11:02.000 Z</td>\n",
       "    </tr>\n",
       "  </tbody>\n",
       "</table>\n",
       "</div>"
      ],
      "text/plain": [
       "                                 article_id  \\\n",
       "0  e9d06b2bb42bd9970de43beab2d3893534d7a619   \n",
       "1  e98b0d02b16794bc0884a61c4a45746cb9430630   \n",
       "\n",
       "                                            headline  \\\n",
       "0  Defense Department slams brakes on border wall...   \n",
       "1  Biden's DOJ must confront what to do with outs...   \n",
       "\n",
       "                                                 url  \\\n",
       "0  https://www.cnn.com/2021/01/21/politics/border...   \n",
       "1  https://www.cnn.com/2021/01/21/politics/donald...   \n",
       "\n",
       "              published_date  \n",
       "0  2021-01-21 21:45:03.000 Z  \n",
       "1  2021-01-22 02:11:02.000 Z  "
      ]
     },
     "execution_count": 41,
     "metadata": {},
     "output_type": "execute_result"
    }
   ],
   "source": [
    "articles.head(2)"
   ]
  },
  {
   "cell_type": "code",
   "execution_count": 42,
   "metadata": {},
   "outputs": [
    {
     "data": {
      "text/plain": [
       "50000"
      ]
     },
     "execution_count": 42,
     "metadata": {},
     "output_type": "execute_result"
    }
   ],
   "source": [
    "len(article_user.user_id.unique())"
   ]
  },
  {
   "cell_type": "code",
   "execution_count": 43,
   "metadata": {},
   "outputs": [
    {
     "data": {
      "text/plain": [
       "1455"
      ]
     },
     "execution_count": 43,
     "metadata": {},
     "output_type": "execute_result"
    }
   ],
   "source": [
    "len(articles.article_id.unique())"
   ]
  },
  {
   "cell_type": "code",
   "execution_count": 44,
   "metadata": {},
   "outputs": [],
   "source": [
    "articles.head().to_csv('articles_sample.csv')"
   ]
  },
  {
   "cell_type": "code",
   "execution_count": 45,
   "metadata": {},
   "outputs": [
    {
     "data": {
      "text/html": [
       "<div>\n",
       "<style scoped>\n",
       "    .dataframe tbody tr th:only-of-type {\n",
       "        vertical-align: middle;\n",
       "    }\n",
       "\n",
       "    .dataframe tbody tr th {\n",
       "        vertical-align: top;\n",
       "    }\n",
       "\n",
       "    .dataframe thead th {\n",
       "        text-align: right;\n",
       "    }\n",
       "</style>\n",
       "<table border=\"1\" class=\"dataframe\">\n",
       "  <thead>\n",
       "    <tr style=\"text-align: right;\">\n",
       "      <th></th>\n",
       "      <th>user_id</th>\n",
       "      <th>article_id</th>\n",
       "      <th>timestamp</th>\n",
       "    </tr>\n",
       "  </thead>\n",
       "  <tbody>\n",
       "    <tr>\n",
       "      <th>0</th>\n",
       "      <td>2bc424123e0a12d29c488bb6e565fe98d0a49b46</td>\n",
       "      <td>e9d06b2bb42bd9970de43beab2d3893534d7a619</td>\n",
       "      <td>1611291180</td>\n",
       "    </tr>\n",
       "    <tr>\n",
       "      <th>1</th>\n",
       "      <td>2bc424123e0a12d29c488bb6e565fe98d0a49b46</td>\n",
       "      <td>e98b0d02b16794bc0884a61c4a45746cb9430630</td>\n",
       "      <td>1611290464</td>\n",
       "    </tr>\n",
       "  </tbody>\n",
       "</table>\n",
       "</div>"
      ],
      "text/plain": [
       "                                    user_id  \\\n",
       "0  2bc424123e0a12d29c488bb6e565fe98d0a49b46   \n",
       "1  2bc424123e0a12d29c488bb6e565fe98d0a49b46   \n",
       "\n",
       "                                 article_id   timestamp  \n",
       "0  e9d06b2bb42bd9970de43beab2d3893534d7a619  1611291180  \n",
       "1  e98b0d02b16794bc0884a61c4a45746cb9430630  1611290464  "
      ]
     },
     "execution_count": 45,
     "metadata": {},
     "output_type": "execute_result"
    }
   ],
   "source": [
    "article_user.head(2)"
   ]
  },
  {
   "cell_type": "code",
   "execution_count": 46,
   "metadata": {},
   "outputs": [],
   "source": [
    "df = pd.merge(article_user, articles)"
   ]
  },
  {
   "cell_type": "code",
   "execution_count": 47,
   "metadata": {},
   "outputs": [],
   "source": [
    "#pd.to_datetime(df['timestamp'], infer_datetime_format=True)  "
   ]
  },
  {
   "cell_type": "code",
   "execution_count": 48,
   "metadata": {},
   "outputs": [],
   "source": [
    "from datetime import datetime, timedelta\n",
    "def convert_time(time_str):\n",
    "    ts = int(time_str)\n",
    "    return datetime.utcfromtimestamp(ts)"
   ]
  },
  {
   "cell_type": "code",
   "execution_count": 49,
   "metadata": {},
   "outputs": [],
   "source": [
    "df['timestamp'] = df.apply(lambda r: convert_time(r['timestamp']), axis=1)"
   ]
  },
  {
   "cell_type": "code",
   "execution_count": 50,
   "metadata": {},
   "outputs": [
    {
     "data": {
      "text/plain": [
       "datetime.datetime(2021, 4, 12, 0, 0)"
      ]
     },
     "execution_count": 50,
     "metadata": {},
     "output_type": "execute_result"
    }
   ],
   "source": [
    "datetime.strptime('2021-04-19', '%Y-%m-%d') - timedelta(days=7)"
   ]
  },
  {
   "cell_type": "code",
   "execution_count": 51,
   "metadata": {},
   "outputs": [
    {
     "data": {
      "text/html": [
       "<div>\n",
       "<style scoped>\n",
       "    .dataframe tbody tr th:only-of-type {\n",
       "        vertical-align: middle;\n",
       "    }\n",
       "\n",
       "    .dataframe tbody tr th {\n",
       "        vertical-align: top;\n",
       "    }\n",
       "\n",
       "    .dataframe thead th {\n",
       "        text-align: right;\n",
       "    }\n",
       "</style>\n",
       "<table border=\"1\" class=\"dataframe\">\n",
       "  <thead>\n",
       "    <tr style=\"text-align: right;\">\n",
       "      <th></th>\n",
       "      <th>user_id</th>\n",
       "      <th>article_id</th>\n",
       "      <th>timestamp</th>\n",
       "      <th>headline</th>\n",
       "      <th>url</th>\n",
       "      <th>published_date</th>\n",
       "    </tr>\n",
       "  </thead>\n",
       "  <tbody>\n",
       "  </tbody>\n",
       "</table>\n",
       "</div>"
      ],
      "text/plain": [
       "Empty DataFrame\n",
       "Columns: [user_id, article_id, timestamp, headline, url, published_date]\n",
       "Index: []"
      ]
     },
     "execution_count": 51,
     "metadata": {},
     "output_type": "execute_result"
    }
   ],
   "source": [
    "f1 = df['timestamp'] >=  datetime.now() - timedelta(days=120)\n",
    "f2 = df['timestamp'] <  datetime.now() - timedelta(days=100)\n",
    "df[f2]"
   ]
  },
  {
   "cell_type": "code",
   "execution_count": 52,
   "metadata": {},
   "outputs": [
    {
     "data": {
      "text/plain": [
       "Timestamp('2021-01-25 00:09:41')"
      ]
     },
     "execution_count": 52,
     "metadata": {},
     "output_type": "execute_result"
    }
   ],
   "source": [
    "df['timestamp'].max()"
   ]
  },
  {
   "cell_type": "code",
   "execution_count": 53,
   "metadata": {},
   "outputs": [
    {
     "data": {
      "text/plain": [
       "Timestamp('2021-01-20 00:00:31')"
      ]
     },
     "execution_count": 53,
     "metadata": {},
     "output_type": "execute_result"
    }
   ],
   "source": [
    "df['timestamp'].min()"
   ]
  },
  {
   "cell_type": "code",
   "execution_count": 54,
   "metadata": {},
   "outputs": [
    {
     "data": {
      "text/plain": [
       "datetime.datetime(2021, 1, 12, 21, 50, 59, 191141)"
      ]
     },
     "execution_count": 54,
     "metadata": {},
     "output_type": "execute_result"
    }
   ],
   "source": [
    "datetime.now() - timedelta(days=100)"
   ]
  },
  {
   "cell_type": "code",
   "execution_count": 55,
   "metadata": {},
   "outputs": [
    {
     "data": {
      "text/plain": [
       "datetime.datetime(2020, 12, 23, 21, 50, 59, 197282)"
      ]
     },
     "execution_count": 55,
     "metadata": {},
     "output_type": "execute_result"
    }
   ],
   "source": [
    "datetime.now() - timedelta(days=120)"
   ]
  },
  {
   "cell_type": "code",
   "execution_count": 56,
   "metadata": {},
   "outputs": [],
   "source": [
    "# Most popular score"
   ]
  },
  {
   "cell_type": "markdown",
   "metadata": {},
   "source": [
    "most popular articles are something. What are they?"
   ]
  },
  {
   "cell_type": "code",
   "execution_count": 57,
   "metadata": {},
   "outputs": [],
   "source": [
    "#df['article_id'].value_counts().to_csv('article_counts.csv')"
   ]
  },
  {
   "cell_type": "code",
   "execution_count": 58,
   "metadata": {},
   "outputs": [],
   "source": [
    "def get_topic(url):\n",
    "    pattern = 'http(s)?://(www|money).cnn.com/\\d{4}/\\d{2}/\\d{2}/(?P<topic>[a-z0-9-]+)/'\n",
    "    result = re.match(pattern, url)\n",
    "    topic = None\n",
    "    if result:\n",
    "        topic = result.group('topic')\n",
    "    if not result:\n",
    "        pattern2 = 'https://www.cnn.com/(?P<topic>[a-z]*)/'\n",
    "        result = re.match(pattern2, url)\n",
    "        if result:\n",
    "            topic = result.group('topic')\n",
    "    if topic:\n",
    "        return topic\n",
    "    else:\n",
    "        return ''"
   ]
  },
  {
   "cell_type": "code",
   "execution_count": 67,
   "metadata": {},
   "outputs": [],
   "source": [
    "df['category'] = df.apply(lambda r: get_topic(r['url']), axis=1)"
   ]
  },
  {
   "cell_type": "code",
   "execution_count": 68,
   "metadata": {},
   "outputs": [],
   "source": [
    "# # calculate the frequency of each article\n",
    "groups = df.groupby(['category', 'article_id']).size().reset_index().rename({0: 'frequency'}, axis=1)\n",
    "# n = 5\n",
    "# # get the top n articles\n",
    "groups = groups.sort_values('frequency', ascending=False).groupby('category')\\\n",
    "            .head(10).sort_values(['category', 'frequency'], ascending=False)"
   ]
  },
  {
   "cell_type": "code",
   "execution_count": 69,
   "metadata": {},
   "outputs": [
    {
     "data": {
      "text/html": [
       "<div>\n",
       "<style scoped>\n",
       "    .dataframe tbody tr th:only-of-type {\n",
       "        vertical-align: middle;\n",
       "    }\n",
       "\n",
       "    .dataframe tbody tr th {\n",
       "        vertical-align: top;\n",
       "    }\n",
       "\n",
       "    .dataframe thead th {\n",
       "        text-align: right;\n",
       "    }\n",
       "</style>\n",
       "<table border=\"1\" class=\"dataframe\">\n",
       "  <thead>\n",
       "    <tr style=\"text-align: right;\">\n",
       "      <th></th>\n",
       "      <th>category</th>\n",
       "      <th>article_id</th>\n",
       "      <th>frequency</th>\n",
       "    </tr>\n",
       "  </thead>\n",
       "  <tbody>\n",
       "    <tr>\n",
       "      <th>1431</th>\n",
       "      <td>world</td>\n",
       "      <td>889f731b80b1becc703d0f550da3fe85be9251eb</td>\n",
       "      <td>1518</td>\n",
       "    </tr>\n",
       "    <tr>\n",
       "      <th>1444</th>\n",
       "      <td>world</td>\n",
       "      <td>d3810241ac4c40506c1392a189fd67abf0d9baf8</td>\n",
       "      <td>1407</td>\n",
       "    </tr>\n",
       "    <tr>\n",
       "      <th>1440</th>\n",
       "      <td>world</td>\n",
       "      <td>c0587cef8661f800b8f47c8af6520692fd45a1ad</td>\n",
       "      <td>464</td>\n",
       "    </tr>\n",
       "    <tr>\n",
       "      <th>1437</th>\n",
       "      <td>world</td>\n",
       "      <td>a1981821adab54be5325ee596c350bf3ea0ae370</td>\n",
       "      <td>426</td>\n",
       "    </tr>\n",
       "    <tr>\n",
       "      <th>1420</th>\n",
       "      <td>world</td>\n",
       "      <td>35a820c34b6623bf91e196cad2b1cf49342ece42</td>\n",
       "      <td>293</td>\n",
       "    </tr>\n",
       "  </tbody>\n",
       "</table>\n",
       "</div>"
      ],
      "text/plain": [
       "     category                                article_id  frequency\n",
       "1431    world  889f731b80b1becc703d0f550da3fe85be9251eb       1518\n",
       "1444    world  d3810241ac4c40506c1392a189fd67abf0d9baf8       1407\n",
       "1440    world  c0587cef8661f800b8f47c8af6520692fd45a1ad        464\n",
       "1437    world  a1981821adab54be5325ee596c350bf3ea0ae370        426\n",
       "1420    world  35a820c34b6623bf91e196cad2b1cf49342ece42        293"
      ]
     },
     "execution_count": 69,
     "metadata": {},
     "output_type": "execute_result"
    }
   ],
   "source": [
    "msk1 = groups['category'] == 'world'\n",
    "groups[msk1].head(5)"
   ]
  },
  {
   "cell_type": "code",
   "execution_count": 70,
   "metadata": {},
   "outputs": [],
   "source": [
    "categories = groups['category'].unique()\n",
    "def category_exists(category: str) -> bool:\n",
    "    return category in categories\n",
    "\n",
    "def get_top_n_in_category(n, category) -> pd.DataFrame:\n",
    "    n = max(5, n)\n",
    "    msk1 = groups['category'] == category\n",
    "    return groups[msk1].head(n)"
   ]
  },
  {
   "cell_type": "code",
   "execution_count": 71,
   "metadata": {},
   "outputs": [],
   "source": [
    "# groups.to_csv('nlargest.csv')"
   ]
  },
  {
   "cell_type": "code",
   "execution_count": 72,
   "metadata": {},
   "outputs": [],
   "source": [
    "all_articles = pd.merge(article_user, articles)"
   ]
  },
  {
   "cell_type": "code",
   "execution_count": 73,
   "metadata": {},
   "outputs": [],
   "source": [
    "from sklearn.feature_extraction.text import TfidfVectorizer\n",
    "from sklearn.metrics.pairwise import linear_kernel"
   ]
  },
  {
   "cell_type": "code",
   "execution_count": 74,
   "metadata": {},
   "outputs": [
    {
     "name": "stdout",
     "output_type": "stream",
     "text": [
      "CPU times: user 3 µs, sys: 1 µs, total: 4 µs\n",
      "Wall time: 5.25 µs\n"
     ]
    }
   ],
   "source": [
    "%time\n",
    "tf = TfidfVectorizer(analyzer='word',ngram_range=(1, 2),min_df=0, stop_words='english')\n",
    "tfidf_matrix = tf.fit_transform(articles['headline'].unique())"
   ]
  },
  {
   "cell_type": "code",
   "execution_count": 75,
   "metadata": {},
   "outputs": [
    {
     "data": {
      "text/plain": [
       "(1455, 13246)"
      ]
     },
     "execution_count": 75,
     "metadata": {},
     "output_type": "execute_result"
    }
   ],
   "source": [
    "tfidf_matrix.shape"
   ]
  },
  {
   "cell_type": "code",
   "execution_count": 76,
   "metadata": {},
   "outputs": [],
   "source": [
    "cosine_sim = linear_kernel(tfidf_matrix, tfidf_matrix)"
   ]
  },
  {
   "cell_type": "code",
   "execution_count": 77,
   "metadata": {},
   "outputs": [
    {
     "data": {
      "text/plain": [
       "'Defense Department slams brakes on border wall as it reviews Biden order'"
      ]
     },
     "execution_count": 77,
     "metadata": {},
     "output_type": "execute_result"
    }
   ],
   "source": [
    "all_articles['headline'][0]"
   ]
  },
  {
   "cell_type": "code",
   "execution_count": 78,
   "metadata": {},
   "outputs": [
    {
     "data": {
      "text/html": [
       "<div>\n",
       "<style scoped>\n",
       "    .dataframe tbody tr th:only-of-type {\n",
       "        vertical-align: middle;\n",
       "    }\n",
       "\n",
       "    .dataframe tbody tr th {\n",
       "        vertical-align: top;\n",
       "    }\n",
       "\n",
       "    .dataframe thead th {\n",
       "        text-align: right;\n",
       "    }\n",
       "</style>\n",
       "<table border=\"1\" class=\"dataframe\">\n",
       "  <thead>\n",
       "    <tr style=\"text-align: right;\">\n",
       "      <th></th>\n",
       "      <th>user_id</th>\n",
       "      <th>article_id</th>\n",
       "      <th>timestamp</th>\n",
       "      <th>headline</th>\n",
       "      <th>url</th>\n",
       "      <th>published_date</th>\n",
       "    </tr>\n",
       "  </thead>\n",
       "  <tbody>\n",
       "    <tr>\n",
       "      <th>0</th>\n",
       "      <td>2bc424123e0a12d29c488bb6e565fe98d0a49b46</td>\n",
       "      <td>e9d06b2bb42bd9970de43beab2d3893534d7a619</td>\n",
       "      <td>1611291180</td>\n",
       "      <td>Defense Department slams brakes on border wall...</td>\n",
       "      <td>https://www.cnn.com/2021/01/21/politics/border...</td>\n",
       "      <td>2021-01-21 21:45:03.000 Z</td>\n",
       "    </tr>\n",
       "    <tr>\n",
       "      <th>714</th>\n",
       "      <td>2bc424123e0a12d29c488bb6e565fe98d0a49b46</td>\n",
       "      <td>e98b0d02b16794bc0884a61c4a45746cb9430630</td>\n",
       "      <td>1611290464</td>\n",
       "      <td>Biden's DOJ must confront what to do with outs...</td>\n",
       "      <td>https://www.cnn.com/2021/01/21/politics/donald...</td>\n",
       "      <td>2021-01-22 02:11:02.000 Z</td>\n",
       "    </tr>\n",
       "  </tbody>\n",
       "</table>\n",
       "</div>"
      ],
      "text/plain": [
       "                                      user_id  \\\n",
       "0    2bc424123e0a12d29c488bb6e565fe98d0a49b46   \n",
       "714  2bc424123e0a12d29c488bb6e565fe98d0a49b46   \n",
       "\n",
       "                                   article_id   timestamp  \\\n",
       "0    e9d06b2bb42bd9970de43beab2d3893534d7a619  1611291180   \n",
       "714  e98b0d02b16794bc0884a61c4a45746cb9430630  1611290464   \n",
       "\n",
       "                                              headline  \\\n",
       "0    Defense Department slams brakes on border wall...   \n",
       "714  Biden's DOJ must confront what to do with outs...   \n",
       "\n",
       "                                                   url  \\\n",
       "0    https://www.cnn.com/2021/01/21/politics/border...   \n",
       "714  https://www.cnn.com/2021/01/21/politics/donald...   \n",
       "\n",
       "                published_date  \n",
       "0    2021-01-21 21:45:03.000 Z  \n",
       "714  2021-01-22 02:11:02.000 Z  "
      ]
     },
     "execution_count": 78,
     "metadata": {},
     "output_type": "execute_result"
    }
   ],
   "source": [
    "uid = '2bc424123e0a12d29c488bb6e565fe98d0a49b46'\n",
    "all_articles[all_articles['user_id'] == '2bc424123e0a12d29c488bb6e565fe98d0a49b46'].head(2)"
   ]
  },
  {
   "cell_type": "code",
   "execution_count": 79,
   "metadata": {},
   "outputs": [],
   "source": [
    "smd = all_articles.reset_index()\n",
    "headlines = articles['headline']\n",
    "indices = pd.Series(articles.index, index=articles['headline'])\n",
    "def get_recommendations(title):\n",
    "    idx = indices[title]\n",
    "    sim_scores = list(enumerate(cosine_sim[idx]))\n",
    "    sim_scores = sorted(sim_scores, key=lambda x: x[1], reverse=True)\n",
    "    sim_scores = sim_scores[1:31]\n",
    "    movie_indices = [i[0] for i in sim_scores]\n",
    "    return headlines.iloc[movie_indices]"
   ]
  },
  {
   "cell_type": "code",
   "execution_count": 80,
   "metadata": {},
   "outputs": [
    {
     "data": {
      "text/plain": [
       "1223    Biden's desire to stop the border wall could b...\n",
       "908     Steve Bannon, three others charged with fraud ...\n",
       "483     Trump visits his border wall on the heels of d...\n",
       "1239    Trump administration locks down border wall co...\n",
       "169     Biden starts fast on immigration by halting bo...\n",
       "Name: headline, dtype: object"
      ]
     },
     "execution_count": 80,
     "metadata": {},
     "output_type": "execute_result"
    }
   ],
   "source": [
    "t = 'Defense Department slams brakes on border wall as it reviews Biden order'\n",
    "get_recommendations(t).head(5)#.to_csv('similar_recommendations.csv')"
   ]
  },
  {
   "cell_type": "code",
   "execution_count": 81,
   "metadata": {},
   "outputs": [],
   "source": [
    "all_articles['rating'] = 1"
   ]
  },
  {
   "cell_type": "code",
   "execution_count": 93,
   "metadata": {},
   "outputs": [
    {
     "data": {
      "text/html": [
       "<div>\n",
       "<style scoped>\n",
       "    .dataframe tbody tr th:only-of-type {\n",
       "        vertical-align: middle;\n",
       "    }\n",
       "\n",
       "    .dataframe tbody tr th {\n",
       "        vertical-align: top;\n",
       "    }\n",
       "\n",
       "    .dataframe thead th {\n",
       "        text-align: right;\n",
       "    }\n",
       "</style>\n",
       "<table border=\"1\" class=\"dataframe\">\n",
       "  <thead>\n",
       "    <tr style=\"text-align: right;\">\n",
       "      <th></th>\n",
       "      <th>user_id</th>\n",
       "      <th>article_id</th>\n",
       "      <th>timestamp</th>\n",
       "      <th>headline</th>\n",
       "      <th>url</th>\n",
       "      <th>published_date</th>\n",
       "      <th>rating</th>\n",
       "    </tr>\n",
       "  </thead>\n",
       "  <tbody>\n",
       "    <tr>\n",
       "      <th>0</th>\n",
       "      <td>2bc424123e0a12d29c488bb6e565fe98d0a49b46</td>\n",
       "      <td>e9d06b2bb42bd9970de43beab2d3893534d7a619</td>\n",
       "      <td>1611291180</td>\n",
       "      <td>Defense Department slams brakes on border wall...</td>\n",
       "      <td>https://www.cnn.com/2021/01/21/politics/border...</td>\n",
       "      <td>2021-01-21 21:45:03.000 Z</td>\n",
       "      <td>1</td>\n",
       "    </tr>\n",
       "    <tr>\n",
       "      <th>714</th>\n",
       "      <td>2bc424123e0a12d29c488bb6e565fe98d0a49b46</td>\n",
       "      <td>e98b0d02b16794bc0884a61c4a45746cb9430630</td>\n",
       "      <td>1611290464</td>\n",
       "      <td>Biden's DOJ must confront what to do with outs...</td>\n",
       "      <td>https://www.cnn.com/2021/01/21/politics/donald...</td>\n",
       "      <td>2021-01-22 02:11:02.000 Z</td>\n",
       "      <td>1</td>\n",
       "    </tr>\n",
       "  </tbody>\n",
       "</table>\n",
       "</div>"
      ],
      "text/plain": [
       "                                      user_id  \\\n",
       "0    2bc424123e0a12d29c488bb6e565fe98d0a49b46   \n",
       "714  2bc424123e0a12d29c488bb6e565fe98d0a49b46   \n",
       "\n",
       "                                   article_id   timestamp  \\\n",
       "0    e9d06b2bb42bd9970de43beab2d3893534d7a619  1611291180   \n",
       "714  e98b0d02b16794bc0884a61c4a45746cb9430630  1611290464   \n",
       "\n",
       "                                              headline  \\\n",
       "0    Defense Department slams brakes on border wall...   \n",
       "714  Biden's DOJ must confront what to do with outs...   \n",
       "\n",
       "                                                   url  \\\n",
       "0    https://www.cnn.com/2021/01/21/politics/border...   \n",
       "714  https://www.cnn.com/2021/01/21/politics/donald...   \n",
       "\n",
       "                published_date  rating  \n",
       "0    2021-01-21 21:45:03.000 Z       1  \n",
       "714  2021-01-22 02:11:02.000 Z       1  "
      ]
     },
     "execution_count": 93,
     "metadata": {},
     "output_type": "execute_result"
    }
   ],
   "source": [
    "msk3 = all_articles['user_id'] == '2bc424123e0a12d29c488bb6e565fe98d0a49b46'\n",
    "all_articles[msk3].head(2)"
   ]
  },
  {
   "cell_type": "code",
   "execution_count": 83,
   "metadata": {},
   "outputs": [],
   "source": [
    "g = df.groupby(['user_id', 'article_id'])['article_id'].count()#.to_frame()\n",
    "#ratings = g.rename('rating').to_frame().reset_index()\n",
    "article_counts = g.rename('rating').to_frame().reset_index()"
   ]
  },
  {
   "cell_type": "code",
   "execution_count": 94,
   "metadata": {},
   "outputs": [],
   "source": [
    "#ratings[ratings['rating'] > 1].head(2)"
   ]
  },
  {
   "cell_type": "code",
   "execution_count": 96,
   "metadata": {},
   "outputs": [
    {
     "data": {
      "text/html": [
       "<div>\n",
       "<style scoped>\n",
       "    .dataframe tbody tr th:only-of-type {\n",
       "        vertical-align: middle;\n",
       "    }\n",
       "\n",
       "    .dataframe tbody tr th {\n",
       "        vertical-align: top;\n",
       "    }\n",
       "\n",
       "    .dataframe thead th {\n",
       "        text-align: right;\n",
       "    }\n",
       "</style>\n",
       "<table border=\"1\" class=\"dataframe\">\n",
       "  <thead>\n",
       "    <tr style=\"text-align: right;\">\n",
       "      <th></th>\n",
       "      <th>user_id</th>\n",
       "      <th>article_id</th>\n",
       "      <th>rating</th>\n",
       "    </tr>\n",
       "  </thead>\n",
       "  <tbody>\n",
       "    <tr>\n",
       "      <th>0</th>\n",
       "      <td>0002604d5804123dedb91819acbc93f888c54b8e</td>\n",
       "      <td>534c4076ad58bee6998339f70a018a0330cdcbf5</td>\n",
       "      <td>1</td>\n",
       "    </tr>\n",
       "    <tr>\n",
       "      <th>1</th>\n",
       "      <td>0002604d5804123dedb91819acbc93f888c54b8e</td>\n",
       "      <td>6ab428f68d0fa9a6405a508751acc8ef0b9ee4ff</td>\n",
       "      <td>1</td>\n",
       "    </tr>\n",
       "  </tbody>\n",
       "</table>\n",
       "</div>"
      ],
      "text/plain": [
       "                                    user_id  \\\n",
       "0  0002604d5804123dedb91819acbc93f888c54b8e   \n",
       "1  0002604d5804123dedb91819acbc93f888c54b8e   \n",
       "\n",
       "                                 article_id  rating  \n",
       "0  534c4076ad58bee6998339f70a018a0330cdcbf5       1  \n",
       "1  6ab428f68d0fa9a6405a508751acc8ef0b9ee4ff       1  "
      ]
     },
     "execution_count": 96,
     "metadata": {},
     "output_type": "execute_result"
    }
   ],
   "source": [
    "article_counts.head(2)"
   ]
  },
  {
   "cell_type": "code",
   "execution_count": 98,
   "metadata": {},
   "outputs": [
    {
     "data": {
      "text/html": [
       "<div>\n",
       "<style scoped>\n",
       "    .dataframe tbody tr th:only-of-type {\n",
       "        vertical-align: middle;\n",
       "    }\n",
       "\n",
       "    .dataframe tbody tr th {\n",
       "        vertical-align: top;\n",
       "    }\n",
       "\n",
       "    .dataframe thead th {\n",
       "        text-align: right;\n",
       "    }\n",
       "</style>\n",
       "<table border=\"1\" class=\"dataframe\">\n",
       "  <thead>\n",
       "    <tr style=\"text-align: right;\">\n",
       "      <th></th>\n",
       "      <th>user_id</th>\n",
       "      <th>number_of_visited_articles</th>\n",
       "    </tr>\n",
       "  </thead>\n",
       "  <tbody>\n",
       "    <tr>\n",
       "      <th>0</th>\n",
       "      <td>0002604d5804123dedb91819acbc93f888c54b8e</td>\n",
       "      <td>6</td>\n",
       "    </tr>\n",
       "    <tr>\n",
       "      <th>1</th>\n",
       "      <td>0003728d0245028f76f7a655241a07181d1be815</td>\n",
       "      <td>20</td>\n",
       "    </tr>\n",
       "  </tbody>\n",
       "</table>\n",
       "</div>"
      ],
      "text/plain": [
       "                                    user_id  number_of_visited_articles\n",
       "0  0002604d5804123dedb91819acbc93f888c54b8e                           6\n",
       "1  0003728d0245028f76f7a655241a07181d1be815                          20"
      ]
     },
     "execution_count": 98,
     "metadata": {},
     "output_type": "execute_result"
    }
   ],
   "source": [
    "number_of_visited_articles = df.groupby(['user_id'])['article_id'].count().to_frame().reset_index().rename({'article_id': 'number_of_visited_articles'}, axis=1)\n",
    "number_of_visited_articles.head(2)"
   ]
  },
  {
   "cell_type": "code",
   "execution_count": 99,
   "metadata": {},
   "outputs": [],
   "source": [
    "article_counts_merged = pd.merge(number_of_visited_articles, article_counts)"
   ]
  },
  {
   "cell_type": "code",
   "execution_count": 100,
   "metadata": {},
   "outputs": [],
   "source": [
    "article_counts_merged['normalized_rating'] = article_counts_merged['rating'] / article_counts_merged['number_of_visited_articles']"
   ]
  },
  {
   "cell_type": "code",
   "execution_count": 101,
   "metadata": {},
   "outputs": [],
   "source": [
    "# add normalized ratings\n",
    "df = pd.merge(df, article_counts_merged.drop(['rating'], axis=1))"
   ]
  },
  {
   "cell_type": "code",
   "execution_count": 102,
   "metadata": {},
   "outputs": [
    {
     "ename": "NameError",
     "evalue": "name 'ratings' is not defined",
     "output_type": "error",
     "traceback": [
      "\u001b[0;31m---------------------------------------------------------------------------\u001b[0m",
      "\u001b[0;31mNameError\u001b[0m                                 Traceback (most recent call last)",
      "\u001b[0;32m<ipython-input-102-eff98b25ecf9>\u001b[0m in \u001b[0;36m<module>\u001b[0;34m\u001b[0m\n\u001b[0;32m----> 1\u001b[0;31m \u001b[0mp\u001b[0m \u001b[0;34m=\u001b[0m \u001b[0mratings\u001b[0m\u001b[0;34m.\u001b[0m\u001b[0mgroupby\u001b[0m\u001b[0;34m(\u001b[0m\u001b[0;34m[\u001b[0m\u001b[0;34m'user_id'\u001b[0m\u001b[0;34m,\u001b[0m \u001b[0;34m'article_id'\u001b[0m\u001b[0;34m]\u001b[0m\u001b[0;34m)\u001b[0m\u001b[0;34m.\u001b[0m\u001b[0msum\u001b[0m\u001b[0;34m(\u001b[0m\u001b[0;34m)\u001b[0m\u001b[0;34m[\u001b[0m\u001b[0;34m'rating'\u001b[0m\u001b[0;34m]\u001b[0m\u001b[0;34m.\u001b[0m\u001b[0mto_frame\u001b[0m\u001b[0;34m(\u001b[0m\u001b[0;34m)\u001b[0m\u001b[0;34m\u001b[0m\u001b[0;34m\u001b[0m\u001b[0m\n\u001b[0m\u001b[1;32m      2\u001b[0m \u001b[0mp\u001b[0m\u001b[0;34m[\u001b[0m\u001b[0mp\u001b[0m\u001b[0;34m[\u001b[0m\u001b[0;34m'rating'\u001b[0m\u001b[0;34m]\u001b[0m \u001b[0;34m>\u001b[0m \u001b[0;36m1\u001b[0m\u001b[0;34m]\u001b[0m\u001b[0;34m\u001b[0m\u001b[0;34m\u001b[0m\u001b[0m\n",
      "\u001b[0;31mNameError\u001b[0m: name 'ratings' is not defined"
     ]
    }
   ],
   "source": [
    "p = ratings.groupby(['user_id', 'article_id']).sum()['rating'].to_frame()\n",
    "p[p['rating'] > 1]"
   ]
  },
  {
   "cell_type": "code",
   "execution_count": 103,
   "metadata": {},
   "outputs": [
    {
     "data": {
      "text/plain": [
       "{'test_rmse': array([0.88733303, 0.88768809, 0.88678923, 0.88732183, 0.88742525]),\n",
       " 'test_mae': array([0.88206704, 0.88250538, 0.88150491, 0.88209109, 0.88217919]),\n",
       " 'fit_time': (19.19094204902649,\n",
       "  19.284076690673828,\n",
       "  19.191633224487305,\n",
       "  19.223021984100342,\n",
       "  19.227370977401733),\n",
       " 'test_time': (0.7593529224395752,\n",
       "  0.5924577713012695,\n",
       "  0.6702642440795898,\n",
       "  0.7498610019683838,\n",
       "  0.6855781078338623)}"
      ]
     },
     "execution_count": 103,
     "metadata": {},
     "output_type": "execute_result"
    }
   ],
   "source": [
    "import surprise\n",
    "from surprise import Reader, Dataset, SVD, model_selection#, evaluate\n",
    "svd = SVD()\n",
    "reader = Reader()\n",
    "data = Dataset.load_from_df(df[['user_id', 'article_id', 'normalized_rating']], reader)\n",
    "model_selection.cross_validate(svd, data, measures=['RMSE', 'MAE'])"
   ]
  },
  {
   "cell_type": "code",
   "execution_count": 104,
   "metadata": {},
   "outputs": [
    {
     "data": {
      "text/plain": [
       "<surprise.prediction_algorithms.matrix_factorization.SVD at 0x7fdaa5f2c790>"
      ]
     },
     "execution_count": 104,
     "metadata": {},
     "output_type": "execute_result"
    }
   ],
   "source": [
    "trainset = data.build_full_trainset()\n",
    "svd.fit(trainset)"
   ]
  },
  {
   "cell_type": "code",
   "execution_count": 105,
   "metadata": {},
   "outputs": [
    {
     "data": {
      "text/plain": [
       "Prediction(uid='0002604d5804123dedb91819acbc93f888c54b8e', iid='fffb5887fbd6f820ca50ce3787fdd8bd2c87a3c4', r_ui=3, est=1, details={'was_impossible': False})"
      ]
     },
     "execution_count": 105,
     "metadata": {},
     "output_type": "execute_result"
    }
   ],
   "source": [
    "svd.predict('0002604d5804123dedb91819acbc93f888c54b8e', 'fffb5887fbd6f820ca50ce3787fdd8bd2c87a3c4', 3)"
   ]
  },
  {
   "cell_type": "code",
   "execution_count": 106,
   "metadata": {},
   "outputs": [],
   "source": [
    "def get_recommendations_from_user_id_headline(user_id, headline):\n",
    "    idx = indices[headline]\n",
    "    sim_scores = list(enumerate(cosine_sim[int(idx)]))\n",
    "    sim_scores = sorted(sim_scores, key=lambda x: x[1], reverse=True)\n",
    "    sim_scores = sim_scores[1:26]\n",
    "    article_indices = [i[0] for i in sim_scores]\n",
    "    \n",
    "    articles_tmp = articles.iloc[article_indices][['headline', 'article_id']]\n",
    "    articles_tmp['est'] = articles_tmp.apply(lambda x: svd.predict(user_id, x['article_id']).est, axis=1)\n",
    "    articles_tmp = articles_tmp.sort_values('est', ascending=False)\n",
    "    return articles.head(5)"
   ]
  },
  {
   "cell_type": "code",
   "execution_count": 107,
   "metadata": {},
   "outputs": [
    {
     "data": {
      "text/html": [
       "<div>\n",
       "<style scoped>\n",
       "    .dataframe tbody tr th:only-of-type {\n",
       "        vertical-align: middle;\n",
       "    }\n",
       "\n",
       "    .dataframe tbody tr th {\n",
       "        vertical-align: top;\n",
       "    }\n",
       "\n",
       "    .dataframe thead th {\n",
       "        text-align: right;\n",
       "    }\n",
       "</style>\n",
       "<table border=\"1\" class=\"dataframe\">\n",
       "  <thead>\n",
       "    <tr style=\"text-align: right;\">\n",
       "      <th></th>\n",
       "      <th>article_id</th>\n",
       "      <th>headline</th>\n",
       "      <th>url</th>\n",
       "      <th>published_date</th>\n",
       "    </tr>\n",
       "  </thead>\n",
       "  <tbody>\n",
       "    <tr>\n",
       "      <th>0</th>\n",
       "      <td>e9d06b2bb42bd9970de43beab2d3893534d7a619</td>\n",
       "      <td>Defense Department slams brakes on border wall...</td>\n",
       "      <td>https://www.cnn.com/2021/01/21/politics/border...</td>\n",
       "      <td>2021-01-21 21:45:03.000 Z</td>\n",
       "    </tr>\n",
       "    <tr>\n",
       "      <th>1</th>\n",
       "      <td>e98b0d02b16794bc0884a61c4a45746cb9430630</td>\n",
       "      <td>Biden's DOJ must confront what to do with outs...</td>\n",
       "      <td>https://www.cnn.com/2021/01/21/politics/donald...</td>\n",
       "      <td>2021-01-22 02:11:02.000 Z</td>\n",
       "    </tr>\n",
       "  </tbody>\n",
       "</table>\n",
       "</div>"
      ],
      "text/plain": [
       "                                 article_id  \\\n",
       "0  e9d06b2bb42bd9970de43beab2d3893534d7a619   \n",
       "1  e98b0d02b16794bc0884a61c4a45746cb9430630   \n",
       "\n",
       "                                            headline  \\\n",
       "0  Defense Department slams brakes on border wall...   \n",
       "1  Biden's DOJ must confront what to do with outs...   \n",
       "\n",
       "                                                 url  \\\n",
       "0  https://www.cnn.com/2021/01/21/politics/border...   \n",
       "1  https://www.cnn.com/2021/01/21/politics/donald...   \n",
       "\n",
       "              published_date  \n",
       "0  2021-01-21 21:45:03.000 Z  \n",
       "1  2021-01-22 02:11:02.000 Z  "
      ]
     },
     "execution_count": 107,
     "metadata": {},
     "output_type": "execute_result"
    }
   ],
   "source": [
    "articles.head(2)"
   ]
  },
  {
   "cell_type": "code",
   "execution_count": 108,
   "metadata": {},
   "outputs": [
    {
     "data": {
      "text/html": [
       "<div>\n",
       "<style scoped>\n",
       "    .dataframe tbody tr th:only-of-type {\n",
       "        vertical-align: middle;\n",
       "    }\n",
       "\n",
       "    .dataframe tbody tr th {\n",
       "        vertical-align: top;\n",
       "    }\n",
       "\n",
       "    .dataframe thead th {\n",
       "        text-align: right;\n",
       "    }\n",
       "</style>\n",
       "<table border=\"1\" class=\"dataframe\">\n",
       "  <thead>\n",
       "    <tr style=\"text-align: right;\">\n",
       "      <th></th>\n",
       "      <th>index</th>\n",
       "      <th>user_id</th>\n",
       "      <th>article_id</th>\n",
       "      <th>timestamp</th>\n",
       "      <th>headline</th>\n",
       "      <th>url</th>\n",
       "      <th>published_date</th>\n",
       "    </tr>\n",
       "  </thead>\n",
       "  <tbody>\n",
       "    <tr>\n",
       "      <th>0</th>\n",
       "      <td>0</td>\n",
       "      <td>2bc424123e0a12d29c488bb6e565fe98d0a49b46</td>\n",
       "      <td>e9d06b2bb42bd9970de43beab2d3893534d7a619</td>\n",
       "      <td>1611291180</td>\n",
       "      <td>Defense Department slams brakes on border wall...</td>\n",
       "      <td>https://www.cnn.com/2021/01/21/politics/border...</td>\n",
       "      <td>2021-01-21 21:45:03.000 Z</td>\n",
       "    </tr>\n",
       "    <tr>\n",
       "      <th>1</th>\n",
       "      <td>1</td>\n",
       "      <td>b5c93b1ce2245fe8a4d59aedbd6c33a8b315bf60</td>\n",
       "      <td>e9d06b2bb42bd9970de43beab2d3893534d7a619</td>\n",
       "      <td>1611255943</td>\n",
       "      <td>Defense Department slams brakes on border wall...</td>\n",
       "      <td>https://www.cnn.com/2021/01/21/politics/border...</td>\n",
       "      <td>2021-01-21 21:45:03.000 Z</td>\n",
       "    </tr>\n",
       "  </tbody>\n",
       "</table>\n",
       "</div>"
      ],
      "text/plain": [
       "   index                                   user_id  \\\n",
       "0      0  2bc424123e0a12d29c488bb6e565fe98d0a49b46   \n",
       "1      1  b5c93b1ce2245fe8a4d59aedbd6c33a8b315bf60   \n",
       "\n",
       "                                 article_id   timestamp  \\\n",
       "0  e9d06b2bb42bd9970de43beab2d3893534d7a619  1611291180   \n",
       "1  e9d06b2bb42bd9970de43beab2d3893534d7a619  1611255943   \n",
       "\n",
       "                                            headline  \\\n",
       "0  Defense Department slams brakes on border wall...   \n",
       "1  Defense Department slams brakes on border wall...   \n",
       "\n",
       "                                                 url  \\\n",
       "0  https://www.cnn.com/2021/01/21/politics/border...   \n",
       "1  https://www.cnn.com/2021/01/21/politics/border...   \n",
       "\n",
       "              published_date  \n",
       "0  2021-01-21 21:45:03.000 Z  \n",
       "1  2021-01-21 21:45:03.000 Z  "
      ]
     },
     "execution_count": 108,
     "metadata": {},
     "output_type": "execute_result"
    }
   ],
   "source": [
    "smd.head(2)"
   ]
  },
  {
   "cell_type": "code",
   "execution_count": 109,
   "metadata": {
    "scrolled": true
   },
   "outputs": [
    {
     "data": {
      "text/html": [
       "<div>\n",
       "<style scoped>\n",
       "    .dataframe tbody tr th:only-of-type {\n",
       "        vertical-align: middle;\n",
       "    }\n",
       "\n",
       "    .dataframe tbody tr th {\n",
       "        vertical-align: top;\n",
       "    }\n",
       "\n",
       "    .dataframe thead th {\n",
       "        text-align: right;\n",
       "    }\n",
       "</style>\n",
       "<table border=\"1\" class=\"dataframe\">\n",
       "  <thead>\n",
       "    <tr style=\"text-align: right;\">\n",
       "      <th></th>\n",
       "      <th>article_id</th>\n",
       "      <th>headline</th>\n",
       "      <th>url</th>\n",
       "      <th>published_date</th>\n",
       "    </tr>\n",
       "  </thead>\n",
       "  <tbody>\n",
       "    <tr>\n",
       "      <th>0</th>\n",
       "      <td>e9d06b2bb42bd9970de43beab2d3893534d7a619</td>\n",
       "      <td>Defense Department slams brakes on border wall...</td>\n",
       "      <td>https://www.cnn.com/2021/01/21/politics/border...</td>\n",
       "      <td>2021-01-21 21:45:03.000 Z</td>\n",
       "    </tr>\n",
       "    <tr>\n",
       "      <th>1</th>\n",
       "      <td>e98b0d02b16794bc0884a61c4a45746cb9430630</td>\n",
       "      <td>Biden's DOJ must confront what to do with outs...</td>\n",
       "      <td>https://www.cnn.com/2021/01/21/politics/donald...</td>\n",
       "      <td>2021-01-22 02:11:02.000 Z</td>\n",
       "    </tr>\n",
       "    <tr>\n",
       "      <th>2</th>\n",
       "      <td>05f51c586ada891448ab56d9a5c8adb2a688e2fb</td>\n",
       "      <td>White House wants Democrats to be patient on s...</td>\n",
       "      <td>https://www.cnn.com/2021/01/22/politics/covid-...</td>\n",
       "      <td>2021-01-22 21:53:55.000 Z</td>\n",
       "    </tr>\n",
       "    <tr>\n",
       "      <th>3</th>\n",
       "      <td>91333a3c6d28c9241cbb01678a97699232b79e70</td>\n",
       "      <td>The Supreme Court's run out of excuses to avoi...</td>\n",
       "      <td>https://www.cnn.com/2021/01/24/politics/suprem...</td>\n",
       "      <td>2021-01-24 18:42:26.000 Z</td>\n",
       "    </tr>\n",
       "    <tr>\n",
       "      <th>4</th>\n",
       "      <td>30170d08779c54b84170d4cb3b5cbe0462df704a</td>\n",
       "      <td>Evidence shows Capitol rioters brutally attack...</td>\n",
       "      <td>https://www.cnn.com/2021/01/21/politics/capito...</td>\n",
       "      <td>2021-01-21 12:45:30.000 Z</td>\n",
       "    </tr>\n",
       "  </tbody>\n",
       "</table>\n",
       "</div>"
      ],
      "text/plain": [
       "                                 article_id  \\\n",
       "0  e9d06b2bb42bd9970de43beab2d3893534d7a619   \n",
       "1  e98b0d02b16794bc0884a61c4a45746cb9430630   \n",
       "2  05f51c586ada891448ab56d9a5c8adb2a688e2fb   \n",
       "3  91333a3c6d28c9241cbb01678a97699232b79e70   \n",
       "4  30170d08779c54b84170d4cb3b5cbe0462df704a   \n",
       "\n",
       "                                            headline  \\\n",
       "0  Defense Department slams brakes on border wall...   \n",
       "1  Biden's DOJ must confront what to do with outs...   \n",
       "2  White House wants Democrats to be patient on s...   \n",
       "3  The Supreme Court's run out of excuses to avoi...   \n",
       "4  Evidence shows Capitol rioters brutally attack...   \n",
       "\n",
       "                                                 url  \\\n",
       "0  https://www.cnn.com/2021/01/21/politics/border...   \n",
       "1  https://www.cnn.com/2021/01/21/politics/donald...   \n",
       "2  https://www.cnn.com/2021/01/22/politics/covid-...   \n",
       "3  https://www.cnn.com/2021/01/24/politics/suprem...   \n",
       "4  https://www.cnn.com/2021/01/21/politics/capito...   \n",
       "\n",
       "              published_date  \n",
       "0  2021-01-21 21:45:03.000 Z  \n",
       "1  2021-01-22 02:11:02.000 Z  \n",
       "2  2021-01-22 21:53:55.000 Z  \n",
       "3  2021-01-24 18:42:26.000 Z  \n",
       "4  2021-01-21 12:45:30.000 Z  "
      ]
     },
     "execution_count": 109,
     "metadata": {},
     "output_type": "execute_result"
    }
   ],
   "source": [
    "user_id = '2bc424123e0a12d29c488bb6e565fe98d0a49b46'\n",
    "headline = 'Defense Department slams brakes on border wall as it reviews Biden order'\n",
    "get_recommendations_from_user_id_headline(user_id, headline)\n",
    "\n",
    "# can't find this: 'article_id'"
   ]
  },
  {
   "cell_type": "code",
   "execution_count": 110,
   "metadata": {},
   "outputs": [
    {
     "name": "stdout",
     "output_type": "stream",
     "text": [
      "article_id\n",
      "headline\n",
      "url\n",
      "published_date\n"
     ]
    }
   ],
   "source": [
    "for a in get_recommendations_from_user_id_headline(user_id, headline):\n",
    "    print(a)"
   ]
  },
  {
   "cell_type": "code",
   "execution_count": 111,
   "metadata": {},
   "outputs": [],
   "source": [
    "def get_user_history_headlines(user_id: str) -> set:\n",
    "    msk = all_articles['user_id'] == user_id\n",
    "    headlines = all_articles[msk]['headline'].unique()\n",
    "    return headlines"
   ]
  },
  {
   "cell_type": "code",
   "execution_count": 112,
   "metadata": {},
   "outputs": [
    {
     "data": {
      "text/plain": [
       "array(['Defense Department slams brakes on border wall as it reviews Biden order',\n",
       "       \"Biden's DOJ must confront what to do with outstanding cases in which it is defending Trump. The first test could come Friday.\",\n",
       "       'White House wants Democrats to be patient on stimulus talks as Biden pushes for bipartisan path, officials say',\n",
       "       \"The Supreme Court's run out of excuses to avoid controversial issues\",\n",
       "       'Evidence shows Capitol rioters brutally attacked police with flagpoles, fire extinguishers and fists',\n",
       "       'Four presidents take a stand',\n",
       "       'I went to Washington for joy, and Amanda Gorman delivered it',\n",
       "       \"Syroco vs SP80: The race to create the world's fastest sail boat\",\n",
       "       'Here are the 30 executive orders and actions Biden signed in his first three days',\n",
       "       \"Joe Biden grieves Covid victims on eve of his inauguration: 'To heal, we must remember'\",\n",
       "       'Putin presents a Russia-sized foreign-policy headache for Biden',\n",
       "       'Why Republicans are still in charge of some key Senate proceedings as Schumer and McConnell work on power-sharing',\n",
       "       'Bidens quickly fire White House chief usher installed by Trump',\n",
       "       'Michelle Obama wows US presidential inauguration in head-to-toe plum and burgundy',\n",
       "       '5 things to know for January 21: Inauguration, White House, Covid-19, Libya, Russia',\n",
       "       'How airbag jeans and high-tech vests could make motorbikes safer',\n",
       "       'Arizona GOP censures Flake, Ducey and McCain, signaling a fractured party in a key swing state',\n",
       "       \"Amanda Gorman calls on Americans to 'leave behind a country better than the one we were left' in powerful inauguration poem\",\n",
       "       \"Trump has left, but some of his supporters still think he's about to declare martial law -- and they're excited\"],\n",
       "      dtype=object)"
      ]
     },
     "execution_count": 112,
     "metadata": {},
     "output_type": "execute_result"
    }
   ],
   "source": [
    "get_user_history_headlines(user_id)"
   ]
  },
  {
   "cell_type": "code",
   "execution_count": 113,
   "metadata": {},
   "outputs": [
    {
     "data": {
      "text/plain": [
       "'2bc424123e0a12d29c488bb6e565fe98d0a49b46'"
      ]
     },
     "execution_count": 113,
     "metadata": {},
     "output_type": "execute_result"
    }
   ],
   "source": [
    "user_id"
   ]
  },
  {
   "cell_type": "code",
   "execution_count": 119,
   "metadata": {},
   "outputs": [],
   "source": [
    "dfs = []\n",
    "for i, headline in enumerate(get_user_history_headlines(user_id)):\n",
    "    user_history_headlines = get_user_history_headlines(user_id)\n",
    "    for headline in user_history_headlines:\n",
    "        try:\n",
    "            recs = get_recommendations_from_user_id_headline(user_id, headline)\n",
    "            dfs.append(recs)\n",
    "        except:\n",
    "            print('user_id', user_id)\n",
    "            print('headline', headline)\n",
    "        "
   ]
  },
  {
   "cell_type": "code",
   "execution_count": 120,
   "metadata": {},
   "outputs": [
    {
     "data": {
      "text/html": [
       "<div>\n",
       "<style scoped>\n",
       "    .dataframe tbody tr th:only-of-type {\n",
       "        vertical-align: middle;\n",
       "    }\n",
       "\n",
       "    .dataframe tbody tr th {\n",
       "        vertical-align: top;\n",
       "    }\n",
       "\n",
       "    .dataframe thead th {\n",
       "        text-align: right;\n",
       "    }\n",
       "</style>\n",
       "<table border=\"1\" class=\"dataframe\">\n",
       "  <thead>\n",
       "    <tr style=\"text-align: right;\">\n",
       "      <th></th>\n",
       "      <th>article_id</th>\n",
       "      <th>headline</th>\n",
       "      <th>url</th>\n",
       "      <th>published_date</th>\n",
       "    </tr>\n",
       "  </thead>\n",
       "  <tbody>\n",
       "    <tr>\n",
       "      <th>0</th>\n",
       "      <td>e9d06b2bb42bd9970de43beab2d3893534d7a619</td>\n",
       "      <td>Defense Department slams brakes on border wall...</td>\n",
       "      <td>https://www.cnn.com/2021/01/21/politics/border...</td>\n",
       "      <td>2021-01-21 21:45:03.000 Z</td>\n",
       "    </tr>\n",
       "    <tr>\n",
       "      <th>1</th>\n",
       "      <td>e98b0d02b16794bc0884a61c4a45746cb9430630</td>\n",
       "      <td>Biden's DOJ must confront what to do with outs...</td>\n",
       "      <td>https://www.cnn.com/2021/01/21/politics/donald...</td>\n",
       "      <td>2021-01-22 02:11:02.000 Z</td>\n",
       "    </tr>\n",
       "    <tr>\n",
       "      <th>2</th>\n",
       "      <td>05f51c586ada891448ab56d9a5c8adb2a688e2fb</td>\n",
       "      <td>White House wants Democrats to be patient on s...</td>\n",
       "      <td>https://www.cnn.com/2021/01/22/politics/covid-...</td>\n",
       "      <td>2021-01-22 21:53:55.000 Z</td>\n",
       "    </tr>\n",
       "    <tr>\n",
       "      <th>3</th>\n",
       "      <td>91333a3c6d28c9241cbb01678a97699232b79e70</td>\n",
       "      <td>The Supreme Court's run out of excuses to avoi...</td>\n",
       "      <td>https://www.cnn.com/2021/01/24/politics/suprem...</td>\n",
       "      <td>2021-01-24 18:42:26.000 Z</td>\n",
       "    </tr>\n",
       "    <tr>\n",
       "      <th>4</th>\n",
       "      <td>30170d08779c54b84170d4cb3b5cbe0462df704a</td>\n",
       "      <td>Evidence shows Capitol rioters brutally attack...</td>\n",
       "      <td>https://www.cnn.com/2021/01/21/politics/capito...</td>\n",
       "      <td>2021-01-21 12:45:30.000 Z</td>\n",
       "    </tr>\n",
       "    <tr>\n",
       "      <th>...</th>\n",
       "      <td>...</td>\n",
       "      <td>...</td>\n",
       "      <td>...</td>\n",
       "      <td>...</td>\n",
       "    </tr>\n",
       "    <tr>\n",
       "      <th>0</th>\n",
       "      <td>e9d06b2bb42bd9970de43beab2d3893534d7a619</td>\n",
       "      <td>Defense Department slams brakes on border wall...</td>\n",
       "      <td>https://www.cnn.com/2021/01/21/politics/border...</td>\n",
       "      <td>2021-01-21 21:45:03.000 Z</td>\n",
       "    </tr>\n",
       "    <tr>\n",
       "      <th>1</th>\n",
       "      <td>e98b0d02b16794bc0884a61c4a45746cb9430630</td>\n",
       "      <td>Biden's DOJ must confront what to do with outs...</td>\n",
       "      <td>https://www.cnn.com/2021/01/21/politics/donald...</td>\n",
       "      <td>2021-01-22 02:11:02.000 Z</td>\n",
       "    </tr>\n",
       "    <tr>\n",
       "      <th>2</th>\n",
       "      <td>05f51c586ada891448ab56d9a5c8adb2a688e2fb</td>\n",
       "      <td>White House wants Democrats to be patient on s...</td>\n",
       "      <td>https://www.cnn.com/2021/01/22/politics/covid-...</td>\n",
       "      <td>2021-01-22 21:53:55.000 Z</td>\n",
       "    </tr>\n",
       "    <tr>\n",
       "      <th>3</th>\n",
       "      <td>91333a3c6d28c9241cbb01678a97699232b79e70</td>\n",
       "      <td>The Supreme Court's run out of excuses to avoi...</td>\n",
       "      <td>https://www.cnn.com/2021/01/24/politics/suprem...</td>\n",
       "      <td>2021-01-24 18:42:26.000 Z</td>\n",
       "    </tr>\n",
       "    <tr>\n",
       "      <th>4</th>\n",
       "      <td>30170d08779c54b84170d4cb3b5cbe0462df704a</td>\n",
       "      <td>Evidence shows Capitol rioters brutally attack...</td>\n",
       "      <td>https://www.cnn.com/2021/01/21/politics/capito...</td>\n",
       "      <td>2021-01-21 12:45:30.000 Z</td>\n",
       "    </tr>\n",
       "  </tbody>\n",
       "</table>\n",
       "<p>1805 rows × 4 columns</p>\n",
       "</div>"
      ],
      "text/plain": [
       "                                  article_id  \\\n",
       "0   e9d06b2bb42bd9970de43beab2d3893534d7a619   \n",
       "1   e98b0d02b16794bc0884a61c4a45746cb9430630   \n",
       "2   05f51c586ada891448ab56d9a5c8adb2a688e2fb   \n",
       "3   91333a3c6d28c9241cbb01678a97699232b79e70   \n",
       "4   30170d08779c54b84170d4cb3b5cbe0462df704a   \n",
       "..                                       ...   \n",
       "0   e9d06b2bb42bd9970de43beab2d3893534d7a619   \n",
       "1   e98b0d02b16794bc0884a61c4a45746cb9430630   \n",
       "2   05f51c586ada891448ab56d9a5c8adb2a688e2fb   \n",
       "3   91333a3c6d28c9241cbb01678a97699232b79e70   \n",
       "4   30170d08779c54b84170d4cb3b5cbe0462df704a   \n",
       "\n",
       "                                             headline  \\\n",
       "0   Defense Department slams brakes on border wall...   \n",
       "1   Biden's DOJ must confront what to do with outs...   \n",
       "2   White House wants Democrats to be patient on s...   \n",
       "3   The Supreme Court's run out of excuses to avoi...   \n",
       "4   Evidence shows Capitol rioters brutally attack...   \n",
       "..                                                ...   \n",
       "0   Defense Department slams brakes on border wall...   \n",
       "1   Biden's DOJ must confront what to do with outs...   \n",
       "2   White House wants Democrats to be patient on s...   \n",
       "3   The Supreme Court's run out of excuses to avoi...   \n",
       "4   Evidence shows Capitol rioters brutally attack...   \n",
       "\n",
       "                                                  url  \\\n",
       "0   https://www.cnn.com/2021/01/21/politics/border...   \n",
       "1   https://www.cnn.com/2021/01/21/politics/donald...   \n",
       "2   https://www.cnn.com/2021/01/22/politics/covid-...   \n",
       "3   https://www.cnn.com/2021/01/24/politics/suprem...   \n",
       "4   https://www.cnn.com/2021/01/21/politics/capito...   \n",
       "..                                                ...   \n",
       "0   https://www.cnn.com/2021/01/21/politics/border...   \n",
       "1   https://www.cnn.com/2021/01/21/politics/donald...   \n",
       "2   https://www.cnn.com/2021/01/22/politics/covid-...   \n",
       "3   https://www.cnn.com/2021/01/24/politics/suprem...   \n",
       "4   https://www.cnn.com/2021/01/21/politics/capito...   \n",
       "\n",
       "               published_date  \n",
       "0   2021-01-21 21:45:03.000 Z  \n",
       "1   2021-01-22 02:11:02.000 Z  \n",
       "2   2021-01-22 21:53:55.000 Z  \n",
       "3   2021-01-24 18:42:26.000 Z  \n",
       "4   2021-01-21 12:45:30.000 Z  \n",
       "..                        ...  \n",
       "0   2021-01-21 21:45:03.000 Z  \n",
       "1   2021-01-22 02:11:02.000 Z  \n",
       "2   2021-01-22 21:53:55.000 Z  \n",
       "3   2021-01-24 18:42:26.000 Z  \n",
       "4   2021-01-21 12:45:30.000 Z  \n",
       "\n",
       "[1805 rows x 4 columns]"
      ]
     },
     "execution_count": 120,
     "metadata": {},
     "output_type": "execute_result"
    }
   ],
   "source": [
    "pd.concat(dfs)"
   ]
  },
  {
   "cell_type": "code",
   "execution_count": null,
   "metadata": {},
   "outputs": [],
   "source": []
  },
  {
   "cell_type": "code",
   "execution_count": null,
   "metadata": {},
   "outputs": [],
   "source": []
  },
  {
   "cell_type": "code",
   "execution_count": null,
   "metadata": {},
   "outputs": [],
   "source": []
  },
  {
   "cell_type": "code",
   "execution_count": null,
   "metadata": {},
   "outputs": [],
   "source": []
  },
  {
   "cell_type": "code",
   "execution_count": null,
   "metadata": {},
   "outputs": [],
   "source": []
  },
  {
   "cell_type": "code",
   "execution_count": null,
   "metadata": {},
   "outputs": [],
   "source": []
  }
 ],
 "metadata": {
  "kernelspec": {
   "display_name": "Python 3",
   "language": "python",
   "name": "python3"
  },
  "language_info": {
   "codemirror_mode": {
    "name": "ipython",
    "version": 3
   },
   "file_extension": ".py",
   "mimetype": "text/x-python",
   "name": "python",
   "nbconvert_exporter": "python",
   "pygments_lexer": "ipython3",
   "version": "3.8.9"
  }
 },
 "nbformat": 4,
 "nbformat_minor": 2
}
