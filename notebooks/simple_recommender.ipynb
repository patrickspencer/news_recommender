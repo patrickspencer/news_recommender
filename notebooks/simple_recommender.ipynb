{
 "cells": [
  {
   "cell_type": "code",
   "execution_count": 40,
   "metadata": {},
   "outputs": [],
   "source": [
    "import re\n",
    "import pandas as pd\n",
    "from sklearn.feature_extraction.text import TfidfVectorizer\n",
    "from sklearn.metrics.pairwise import linear_kernel\n",
    "%matplotlib inline"
   ]
  },
  {
   "cell_type": "code",
   "execution_count": 8,
   "metadata": {},
   "outputs": [],
   "source": [
    "article_user_data = '../newsrecommender/data/article_user.csv'\n",
    "article_user = pd.read_csv(article_user_data)\n",
    "articles_data = '../newsrecommender/data/articles.csv'\n",
    "articles = pd.read_csv(articles_data)"
   ]
  },
  {
   "cell_type": "code",
   "execution_count": 9,
   "metadata": {},
   "outputs": [],
   "source": [
    "#articles.head().to_csv('articles_sample.csv')"
   ]
  },
  {
   "cell_type": "code",
   "execution_count": 10,
   "metadata": {},
   "outputs": [
    {
     "data": {
      "text/html": [
       "<div>\n",
       "<style scoped>\n",
       "    .dataframe tbody tr th:only-of-type {\n",
       "        vertical-align: middle;\n",
       "    }\n",
       "\n",
       "    .dataframe tbody tr th {\n",
       "        vertical-align: top;\n",
       "    }\n",
       "\n",
       "    .dataframe thead th {\n",
       "        text-align: right;\n",
       "    }\n",
       "</style>\n",
       "<table border=\"1\" class=\"dataframe\">\n",
       "  <thead>\n",
       "    <tr style=\"text-align: right;\">\n",
       "      <th></th>\n",
       "      <th>article_id</th>\n",
       "      <th>headline</th>\n",
       "      <th>url</th>\n",
       "      <th>published_date</th>\n",
       "    </tr>\n",
       "  </thead>\n",
       "  <tbody>\n",
       "    <tr>\n",
       "      <th>0</th>\n",
       "      <td>e9d06b2bb42bd9970de43beab2d3893534d7a619</td>\n",
       "      <td>Defense Department slams brakes on border wall...</td>\n",
       "      <td>https://www.cnn.com/2021/01/21/politics/border...</td>\n",
       "      <td>2021-01-21 21:45:03.000 Z</td>\n",
       "    </tr>\n",
       "    <tr>\n",
       "      <th>1</th>\n",
       "      <td>e98b0d02b16794bc0884a61c4a45746cb9430630</td>\n",
       "      <td>Biden's DOJ must confront what to do with outs...</td>\n",
       "      <td>https://www.cnn.com/2021/01/21/politics/donald...</td>\n",
       "      <td>2021-01-22 02:11:02.000 Z</td>\n",
       "    </tr>\n",
       "  </tbody>\n",
       "</table>\n",
       "</div>"
      ],
      "text/plain": [
       "                                 article_id  \\\n",
       "0  e9d06b2bb42bd9970de43beab2d3893534d7a619   \n",
       "1  e98b0d02b16794bc0884a61c4a45746cb9430630   \n",
       "\n",
       "                                            headline  \\\n",
       "0  Defense Department slams brakes on border wall...   \n",
       "1  Biden's DOJ must confront what to do with outs...   \n",
       "\n",
       "                                                 url  \\\n",
       "0  https://www.cnn.com/2021/01/21/politics/border...   \n",
       "1  https://www.cnn.com/2021/01/21/politics/donald...   \n",
       "\n",
       "              published_date  \n",
       "0  2021-01-21 21:45:03.000 Z  \n",
       "1  2021-01-22 02:11:02.000 Z  "
      ]
     },
     "execution_count": 10,
     "metadata": {},
     "output_type": "execute_result"
    }
   ],
   "source": [
    "articles.head(2)"
   ]
  },
  {
   "cell_type": "code",
   "execution_count": 11,
   "metadata": {},
   "outputs": [
    {
     "data": {
      "text/plain": [
       "50000"
      ]
     },
     "execution_count": 11,
     "metadata": {},
     "output_type": "execute_result"
    }
   ],
   "source": [
    "len(article_user.user_id.unique())"
   ]
  },
  {
   "cell_type": "code",
   "execution_count": 58,
   "metadata": {},
   "outputs": [
    {
     "data": {
      "text/plain": [
       "array(['2bc424123e0a12d29c488bb6e565fe98d0a49b46',\n",
       "       'd63acb7f8d2f7478fdea0c9c5a630cca455b0cc3',\n",
       "       'dae20ce165bd1f86bd762c246df93efc27e16774', ...,\n",
       "       '585429ca58b381fd348e7085acfe07b25400672b',\n",
       "       '0141d1c0e8eb74293f08fe83d2ab8849dcbc004a',\n",
       "       'a5960b8352e6605d3864bfbf39f9d0cf5a3e1d26'], dtype=object)"
      ]
     },
     "execution_count": 58,
     "metadata": {},
     "output_type": "execute_result"
    }
   ],
   "source": [
    "article_user.user_id.unique()"
   ]
  },
  {
   "cell_type": "code",
   "execution_count": 12,
   "metadata": {},
   "outputs": [
    {
     "data": {
      "text/plain": [
       "1455"
      ]
     },
     "execution_count": 12,
     "metadata": {},
     "output_type": "execute_result"
    }
   ],
   "source": [
    "len(articles.article_id.unique())"
   ]
  },
  {
   "cell_type": "code",
   "execution_count": 13,
   "metadata": {},
   "outputs": [],
   "source": [
    "articles.head().to_csv('articles_sample.csv')"
   ]
  },
  {
   "cell_type": "code",
   "execution_count": 14,
   "metadata": {},
   "outputs": [
    {
     "data": {
      "text/html": [
       "<div>\n",
       "<style scoped>\n",
       "    .dataframe tbody tr th:only-of-type {\n",
       "        vertical-align: middle;\n",
       "    }\n",
       "\n",
       "    .dataframe tbody tr th {\n",
       "        vertical-align: top;\n",
       "    }\n",
       "\n",
       "    .dataframe thead th {\n",
       "        text-align: right;\n",
       "    }\n",
       "</style>\n",
       "<table border=\"1\" class=\"dataframe\">\n",
       "  <thead>\n",
       "    <tr style=\"text-align: right;\">\n",
       "      <th></th>\n",
       "      <th>user_id</th>\n",
       "      <th>article_id</th>\n",
       "      <th>timestamp</th>\n",
       "    </tr>\n",
       "  </thead>\n",
       "  <tbody>\n",
       "    <tr>\n",
       "      <th>0</th>\n",
       "      <td>2bc424123e0a12d29c488bb6e565fe98d0a49b46</td>\n",
       "      <td>e9d06b2bb42bd9970de43beab2d3893534d7a619</td>\n",
       "      <td>1611291180</td>\n",
       "    </tr>\n",
       "    <tr>\n",
       "      <th>1</th>\n",
       "      <td>2bc424123e0a12d29c488bb6e565fe98d0a49b46</td>\n",
       "      <td>e98b0d02b16794bc0884a61c4a45746cb9430630</td>\n",
       "      <td>1611290464</td>\n",
       "    </tr>\n",
       "  </tbody>\n",
       "</table>\n",
       "</div>"
      ],
      "text/plain": [
       "                                    user_id  \\\n",
       "0  2bc424123e0a12d29c488bb6e565fe98d0a49b46   \n",
       "1  2bc424123e0a12d29c488bb6e565fe98d0a49b46   \n",
       "\n",
       "                                 article_id   timestamp  \n",
       "0  e9d06b2bb42bd9970de43beab2d3893534d7a619  1611291180  \n",
       "1  e98b0d02b16794bc0884a61c4a45746cb9430630  1611290464  "
      ]
     },
     "execution_count": 14,
     "metadata": {},
     "output_type": "execute_result"
    }
   ],
   "source": [
    "article_user.head(2)"
   ]
  },
  {
   "cell_type": "code",
   "execution_count": 15,
   "metadata": {},
   "outputs": [],
   "source": [
    "df = pd.merge(article_user, articles)"
   ]
  },
  {
   "cell_type": "code",
   "execution_count": 16,
   "metadata": {},
   "outputs": [],
   "source": [
    "#pd.to_datetime(df['timestamp'], infer_datetime_format=True)  "
   ]
  },
  {
   "cell_type": "code",
   "execution_count": 17,
   "metadata": {},
   "outputs": [],
   "source": [
    "from datetime import datetime, timedelta\n",
    "def convert_time(time_str):\n",
    "    ts = int(time_str)\n",
    "    return datetime.utcfromtimestamp(ts)"
   ]
  },
  {
   "cell_type": "code",
   "execution_count": 18,
   "metadata": {},
   "outputs": [],
   "source": [
    "df['timestamp'] = df.apply(lambda r: convert_time(r['timestamp']), axis=1)"
   ]
  },
  {
   "cell_type": "code",
   "execution_count": 19,
   "metadata": {},
   "outputs": [
    {
     "data": {
      "text/plain": [
       "datetime.datetime(2021, 4, 12, 0, 0)"
      ]
     },
     "execution_count": 19,
     "metadata": {},
     "output_type": "execute_result"
    }
   ],
   "source": [
    "datetime.strptime('2021-04-19', '%Y-%m-%d') - timedelta(days=7)"
   ]
  },
  {
   "cell_type": "code",
   "execution_count": 20,
   "metadata": {},
   "outputs": [
    {
     "data": {
      "text/html": [
       "<div>\n",
       "<style scoped>\n",
       "    .dataframe tbody tr th:only-of-type {\n",
       "        vertical-align: middle;\n",
       "    }\n",
       "\n",
       "    .dataframe tbody tr th {\n",
       "        vertical-align: top;\n",
       "    }\n",
       "\n",
       "    .dataframe thead th {\n",
       "        text-align: right;\n",
       "    }\n",
       "</style>\n",
       "<table border=\"1\" class=\"dataframe\">\n",
       "  <thead>\n",
       "    <tr style=\"text-align: right;\">\n",
       "      <th></th>\n",
       "      <th>user_id</th>\n",
       "      <th>article_id</th>\n",
       "      <th>timestamp</th>\n",
       "      <th>headline</th>\n",
       "      <th>url</th>\n",
       "      <th>published_date</th>\n",
       "    </tr>\n",
       "  </thead>\n",
       "  <tbody>\n",
       "  </tbody>\n",
       "</table>\n",
       "</div>"
      ],
      "text/plain": [
       "Empty DataFrame\n",
       "Columns: [user_id, article_id, timestamp, headline, url, published_date]\n",
       "Index: []"
      ]
     },
     "execution_count": 20,
     "metadata": {},
     "output_type": "execute_result"
    }
   ],
   "source": [
    "f1 = df['timestamp'] >=  datetime.now() - timedelta(days=120)\n",
    "f2 = df['timestamp'] <  datetime.now() - timedelta(days=100)\n",
    "df[f2]"
   ]
  },
  {
   "cell_type": "code",
   "execution_count": 21,
   "metadata": {},
   "outputs": [
    {
     "data": {
      "text/plain": [
       "Timestamp('2021-01-25 00:09:41')"
      ]
     },
     "execution_count": 21,
     "metadata": {},
     "output_type": "execute_result"
    }
   ],
   "source": [
    "df['timestamp'].max()"
   ]
  },
  {
   "cell_type": "code",
   "execution_count": 22,
   "metadata": {},
   "outputs": [
    {
     "data": {
      "text/plain": [
       "Timestamp('2021-01-20 00:00:31')"
      ]
     },
     "execution_count": 22,
     "metadata": {},
     "output_type": "execute_result"
    }
   ],
   "source": [
    "df['timestamp'].min()"
   ]
  },
  {
   "cell_type": "code",
   "execution_count": 23,
   "metadata": {},
   "outputs": [
    {
     "data": {
      "text/plain": [
       "datetime.datetime(2021, 1, 13, 14, 59, 9, 38280)"
      ]
     },
     "execution_count": 23,
     "metadata": {},
     "output_type": "execute_result"
    }
   ],
   "source": [
    "datetime.now() - timedelta(days=100)"
   ]
  },
  {
   "cell_type": "code",
   "execution_count": 24,
   "metadata": {},
   "outputs": [
    {
     "data": {
      "text/plain": [
       "datetime.datetime(2020, 12, 24, 14, 59, 9, 42562)"
      ]
     },
     "execution_count": 24,
     "metadata": {},
     "output_type": "execute_result"
    }
   ],
   "source": [
    "datetime.now() - timedelta(days=120)"
   ]
  },
  {
   "cell_type": "code",
   "execution_count": 25,
   "metadata": {},
   "outputs": [],
   "source": [
    "# Most popular score"
   ]
  },
  {
   "cell_type": "markdown",
   "metadata": {},
   "source": [
    "most popular articles are something. What are they?"
   ]
  },
  {
   "cell_type": "code",
   "execution_count": 26,
   "metadata": {},
   "outputs": [],
   "source": [
    "#df['article_id'].value_counts().to_csv('article_counts.csv')"
   ]
  },
  {
   "cell_type": "code",
   "execution_count": 27,
   "metadata": {},
   "outputs": [],
   "source": [
    "def get_topic(url):\n",
    "    pattern = 'http(s)?://(www|money).cnn.com/\\d{4}/\\d{2}/\\d{2}/(?P<topic>[a-z0-9-]+)/'\n",
    "    result = re.match(pattern, url)\n",
    "    topic = None\n",
    "    if result:\n",
    "        topic = result.group('topic')\n",
    "    if not result:\n",
    "        pattern2 = 'https://www.cnn.com/(?P<topic>[a-z]*)/'\n",
    "        result = re.match(pattern2, url)\n",
    "        if result:\n",
    "            topic = result.group('topic')\n",
    "    if topic:\n",
    "        return topic\n",
    "    else:\n",
    "        return ''"
   ]
  },
  {
   "cell_type": "code",
   "execution_count": 30,
   "metadata": {},
   "outputs": [],
   "source": [
    "df['category'] = df.apply(lambda r: get_topic(r['url']), axis=1)"
   ]
  },
  {
   "cell_type": "code",
   "execution_count": 32,
   "metadata": {},
   "outputs": [
    {
     "data": {
      "text/html": [
       "<div>\n",
       "<style scoped>\n",
       "    .dataframe tbody tr th:only-of-type {\n",
       "        vertical-align: middle;\n",
       "    }\n",
       "\n",
       "    .dataframe tbody tr th {\n",
       "        vertical-align: top;\n",
       "    }\n",
       "\n",
       "    .dataframe thead th {\n",
       "        text-align: right;\n",
       "    }\n",
       "</style>\n",
       "<table border=\"1\" class=\"dataframe\">\n",
       "  <thead>\n",
       "    <tr style=\"text-align: right;\">\n",
       "      <th></th>\n",
       "      <th>user_id</th>\n",
       "      <th>article_id</th>\n",
       "      <th>timestamp</th>\n",
       "      <th>headline</th>\n",
       "      <th>url</th>\n",
       "      <th>published_date</th>\n",
       "      <th>category</th>\n",
       "    </tr>\n",
       "  </thead>\n",
       "  <tbody>\n",
       "    <tr>\n",
       "      <th>0</th>\n",
       "      <td>2bc424123e0a12d29c488bb6e565fe98d0a49b46</td>\n",
       "      <td>e9d06b2bb42bd9970de43beab2d3893534d7a619</td>\n",
       "      <td>2021-01-22 04:53:00</td>\n",
       "      <td>Defense Department slams brakes on border wall...</td>\n",
       "      <td>https://www.cnn.com/2021/01/21/politics/border...</td>\n",
       "      <td>2021-01-21 21:45:03.000 Z</td>\n",
       "      <td>politics</td>\n",
       "    </tr>\n",
       "    <tr>\n",
       "      <th>1</th>\n",
       "      <td>b5c93b1ce2245fe8a4d59aedbd6c33a8b315bf60</td>\n",
       "      <td>e9d06b2bb42bd9970de43beab2d3893534d7a619</td>\n",
       "      <td>2021-01-21 19:05:43</td>\n",
       "      <td>Defense Department slams brakes on border wall...</td>\n",
       "      <td>https://www.cnn.com/2021/01/21/politics/border...</td>\n",
       "      <td>2021-01-21 21:45:03.000 Z</td>\n",
       "      <td>politics</td>\n",
       "    </tr>\n",
       "  </tbody>\n",
       "</table>\n",
       "</div>"
      ],
      "text/plain": [
       "                                    user_id  \\\n",
       "0  2bc424123e0a12d29c488bb6e565fe98d0a49b46   \n",
       "1  b5c93b1ce2245fe8a4d59aedbd6c33a8b315bf60   \n",
       "\n",
       "                                 article_id           timestamp  \\\n",
       "0  e9d06b2bb42bd9970de43beab2d3893534d7a619 2021-01-22 04:53:00   \n",
       "1  e9d06b2bb42bd9970de43beab2d3893534d7a619 2021-01-21 19:05:43   \n",
       "\n",
       "                                            headline  \\\n",
       "0  Defense Department slams brakes on border wall...   \n",
       "1  Defense Department slams brakes on border wall...   \n",
       "\n",
       "                                                 url  \\\n",
       "0  https://www.cnn.com/2021/01/21/politics/border...   \n",
       "1  https://www.cnn.com/2021/01/21/politics/border...   \n",
       "\n",
       "              published_date  category  \n",
       "0  2021-01-21 21:45:03.000 Z  politics  \n",
       "1  2021-01-21 21:45:03.000 Z  politics  "
      ]
     },
     "execution_count": 32,
     "metadata": {},
     "output_type": "execute_result"
    }
   ],
   "source": [
    "df.head(2)"
   ]
  },
  {
   "cell_type": "code",
   "execution_count": 56,
   "metadata": {},
   "outputs": [],
   "source": [
    "# # calculate the frequency of each article\n",
    "groups = df.groupby(['category', 'article_id', 'headline']).size().reset_index().rename({0: 'frequency'}, axis=1)\n",
    "# n = 5\n",
    "# # get the top n articles\n",
    "groups = groups.sort_values('frequency', ascending=False).groupby('category')\\\n",
    "            .head(1).sort_values(['category', 'frequency'], ascending=False)\\\n",
    "            .sort_values('frequency', ascending=False).head(5)"
   ]
  },
  {
   "cell_type": "code",
   "execution_count": null,
   "metadata": {},
   "outputs": [],
   "source": [
    "pd.merge(groups, articles_"
   ]
  },
  {
   "cell_type": "code",
   "execution_count": 57,
   "metadata": {},
   "outputs": [],
   "source": [
    "groups.to_csv('top_freq.csv')"
   ]
  },
  {
   "cell_type": "code",
   "execution_count": 38,
   "metadata": {},
   "outputs": [
    {
     "data": {
      "text/html": [
       "<div>\n",
       "<style scoped>\n",
       "    .dataframe tbody tr th:only-of-type {\n",
       "        vertical-align: middle;\n",
       "    }\n",
       "\n",
       "    .dataframe tbody tr th {\n",
       "        vertical-align: top;\n",
       "    }\n",
       "\n",
       "    .dataframe thead th {\n",
       "        text-align: right;\n",
       "    }\n",
       "</style>\n",
       "<table border=\"1\" class=\"dataframe\">\n",
       "  <thead>\n",
       "    <tr style=\"text-align: right;\">\n",
       "      <th></th>\n",
       "      <th>category</th>\n",
       "      <th>article_id</th>\n",
       "      <th>frequency</th>\n",
       "    </tr>\n",
       "  </thead>\n",
       "  <tbody>\n",
       "    <tr>\n",
       "      <th>1431</th>\n",
       "      <td>world</td>\n",
       "      <td>889f731b80b1becc703d0f550da3fe85be9251eb</td>\n",
       "      <td>1518</td>\n",
       "    </tr>\n",
       "    <tr>\n",
       "      <th>1444</th>\n",
       "      <td>world</td>\n",
       "      <td>d3810241ac4c40506c1392a189fd67abf0d9baf8</td>\n",
       "      <td>1407</td>\n",
       "    </tr>\n",
       "  </tbody>\n",
       "</table>\n",
       "</div>"
      ],
      "text/plain": [
       "     category                                article_id  frequency\n",
       "1431    world  889f731b80b1becc703d0f550da3fe85be9251eb       1518\n",
       "1444    world  d3810241ac4c40506c1392a189fd67abf0d9baf8       1407"
      ]
     },
     "execution_count": 38,
     "metadata": {},
     "output_type": "execute_result"
    }
   ],
   "source": [
    "msk1 = groups['category'] == 'world'\n",
    "groups[msk1].head(2)"
   ]
  },
  {
   "cell_type": "code",
   "execution_count": 39,
   "metadata": {},
   "outputs": [],
   "source": [
    "categories = groups['category'].unique()\n",
    "def category_exists(category: str) -> bool:\n",
    "    return category in categories\n",
    "\n",
    "def get_top_n_in_category(n, category) -> pd.DataFrame:\n",
    "    n = max(5, n)\n",
    "    msk1 = groups['category'] == category\n",
    "    return groups[msk1].head(n)"
   ]
  },
  {
   "cell_type": "code",
   "execution_count": 42,
   "metadata": {},
   "outputs": [
    {
     "ename": "NameError",
     "evalue": "name 'n' is not defined",
     "output_type": "error",
     "traceback": [
      "\u001b[0;31m---------------------------------------------------------------------------\u001b[0m",
      "\u001b[0;31mNameError\u001b[0m                                 Traceback (most recent call last)",
      "\u001b[0;32m<ipython-input-42-04ca7262be15>\u001b[0m in \u001b[0;36m<module>\u001b[0;34m\u001b[0m\n\u001b[1;32m      1\u001b[0m \u001b[0mdfs\u001b[0m \u001b[0;34m=\u001b[0m \u001b[0;34m[\u001b[0m\u001b[0;34m]\u001b[0m\u001b[0;34m\u001b[0m\u001b[0;34m\u001b[0m\u001b[0m\n\u001b[1;32m      2\u001b[0m \u001b[0;32mfor\u001b[0m \u001b[0mcategory\u001b[0m \u001b[0;32min\u001b[0m \u001b[0mcategories\u001b[0m\u001b[0;34m:\u001b[0m\u001b[0;34m\u001b[0m\u001b[0;34m\u001b[0m\u001b[0m\n\u001b[0;32m----> 3\u001b[0;31m     \u001b[0mcategory_df\u001b[0m \u001b[0;34m=\u001b[0m \u001b[0mget_top_n_in_category\u001b[0m\u001b[0;34m(\u001b[0m\u001b[0mn\u001b[0m\u001b[0;34m,\u001b[0m \u001b[0mcategory\u001b[0m\u001b[0;34m)\u001b[0m\u001b[0;34m\u001b[0m\u001b[0;34m\u001b[0m\u001b[0m\n\u001b[0m",
      "\u001b[0;31mNameError\u001b[0m: name 'n' is not defined"
     ]
    }
   ],
   "source": [
    "dfs = []\n",
    "for category in categories:\n",
    "    category_df = get_top_n_in_category(n, category)\n",
    "    dfs.append(category_df)"
   ]
  },
  {
   "cell_type": "code",
   "execution_count": 353,
   "metadata": {},
   "outputs": [],
   "source": [
    "# groups.to_csv('nlargest.csv')"
   ]
  },
  {
   "cell_type": "code",
   "execution_count": 409,
   "metadata": {},
   "outputs": [],
   "source": [
    "all_articles = pd.merge(article_user, articles)"
   ]
  },
  {
   "cell_type": "markdown",
   "metadata": {},
   "source": [
    "# Item-Item Collaborative Filtering"
   ]
  },
  {
   "cell_type": "code",
   "execution_count": 415,
   "metadata": {},
   "outputs": [
    {
     "name": "stdout",
     "output_type": "stream",
     "text": [
      "CPU times: user 5 µs, sys: 1 µs, total: 6 µs\n",
      "Wall time: 13.8 µs\n"
     ]
    }
   ],
   "source": [
    "%time\n",
    "tf = TfidfVectorizer(analyzer='word',ngram_range=(1, 2),min_df=0, stop_words='english')\n",
    "tfidf_matrix = tf.fit_transform(articles['headline'].unique())"
   ]
  },
  {
   "cell_type": "code",
   "execution_count": 357,
   "metadata": {},
   "outputs": [
    {
     "data": {
      "text/plain": [
       "(1455, 13246)"
      ]
     },
     "execution_count": 357,
     "metadata": {},
     "output_type": "execute_result"
    }
   ],
   "source": [
    "tfidf_matrix.shape"
   ]
  },
  {
   "cell_type": "code",
   "execution_count": 412,
   "metadata": {},
   "outputs": [],
   "source": [
    "cosine_sim = linear_kernel(tfidf_matrix, tfidf_matrix)"
   ]
  },
  {
   "cell_type": "code",
   "execution_count": 413,
   "metadata": {},
   "outputs": [
    {
     "data": {
      "text/plain": [
       "'Defense Department slams brakes on border wall as it reviews Biden order'"
      ]
     },
     "execution_count": 413,
     "metadata": {},
     "output_type": "execute_result"
    }
   ],
   "source": [
    "all_articles['headline'][0]"
   ]
  },
  {
   "cell_type": "code",
   "execution_count": 414,
   "metadata": {},
   "outputs": [
    {
     "data": {
      "text/html": [
       "<div>\n",
       "<style scoped>\n",
       "    .dataframe tbody tr th:only-of-type {\n",
       "        vertical-align: middle;\n",
       "    }\n",
       "\n",
       "    .dataframe tbody tr th {\n",
       "        vertical-align: top;\n",
       "    }\n",
       "\n",
       "    .dataframe thead th {\n",
       "        text-align: right;\n",
       "    }\n",
       "</style>\n",
       "<table border=\"1\" class=\"dataframe\">\n",
       "  <thead>\n",
       "    <tr style=\"text-align: right;\">\n",
       "      <th></th>\n",
       "      <th>user_id</th>\n",
       "      <th>article_id</th>\n",
       "      <th>timestamp</th>\n",
       "      <th>headline</th>\n",
       "      <th>url</th>\n",
       "      <th>published_date</th>\n",
       "    </tr>\n",
       "  </thead>\n",
       "  <tbody>\n",
       "    <tr>\n",
       "      <th>0</th>\n",
       "      <td>2bc424123e0a12d29c488bb6e565fe98d0a49b46</td>\n",
       "      <td>e9d06b2bb42bd9970de43beab2d3893534d7a619</td>\n",
       "      <td>1611291180</td>\n",
       "      <td>Defense Department slams brakes on border wall...</td>\n",
       "      <td>https://www.cnn.com/2021/01/21/politics/border...</td>\n",
       "      <td>2021-01-21 21:45:03.000 Z</td>\n",
       "    </tr>\n",
       "    <tr>\n",
       "      <th>714</th>\n",
       "      <td>2bc424123e0a12d29c488bb6e565fe98d0a49b46</td>\n",
       "      <td>e98b0d02b16794bc0884a61c4a45746cb9430630</td>\n",
       "      <td>1611290464</td>\n",
       "      <td>Biden's DOJ must confront what to do with outs...</td>\n",
       "      <td>https://www.cnn.com/2021/01/21/politics/donald...</td>\n",
       "      <td>2021-01-22 02:11:02.000 Z</td>\n",
       "    </tr>\n",
       "  </tbody>\n",
       "</table>\n",
       "</div>"
      ],
      "text/plain": [
       "                                      user_id  \\\n",
       "0    2bc424123e0a12d29c488bb6e565fe98d0a49b46   \n",
       "714  2bc424123e0a12d29c488bb6e565fe98d0a49b46   \n",
       "\n",
       "                                   article_id   timestamp  \\\n",
       "0    e9d06b2bb42bd9970de43beab2d3893534d7a619  1611291180   \n",
       "714  e98b0d02b16794bc0884a61c4a45746cb9430630  1611290464   \n",
       "\n",
       "                                              headline  \\\n",
       "0    Defense Department slams brakes on border wall...   \n",
       "714  Biden's DOJ must confront what to do with outs...   \n",
       "\n",
       "                                                   url  \\\n",
       "0    https://www.cnn.com/2021/01/21/politics/border...   \n",
       "714  https://www.cnn.com/2021/01/21/politics/donald...   \n",
       "\n",
       "                published_date  \n",
       "0    2021-01-21 21:45:03.000 Z  \n",
       "714  2021-01-22 02:11:02.000 Z  "
      ]
     },
     "execution_count": 414,
     "metadata": {},
     "output_type": "execute_result"
    }
   ],
   "source": [
    "uid = '2bc424123e0a12d29c488bb6e565fe98d0a49b46'\n",
    "all_articles[all_articles['user_id'] == '2bc424123e0a12d29c488bb6e565fe98d0a49b46'].head(2)"
   ]
  },
  {
   "cell_type": "code",
   "execution_count": 416,
   "metadata": {},
   "outputs": [],
   "source": [
    "smd = all_articles.reset_index()\n",
    "headlines = articles['headline']\n",
    "indices = pd.Series(articles.index, index=articles['headline'])\n",
    "def get_recommendations(title):\n",
    "    idx = indices[title]\n",
    "    sim_scores = list(enumerate(cosine_sim[idx]))\n",
    "    sim_scores = sorted(sim_scores, key=lambda x: x[1], reverse=True)\n",
    "    sim_scores = sim_scores[1:31]\n",
    "    movie_indices = [i[0] for i in sim_scores]\n",
    "    return headlines.iloc[movie_indices]"
   ]
  },
  {
   "cell_type": "code",
   "execution_count": 417,
   "metadata": {},
   "outputs": [
    {
     "data": {
      "text/plain": [
       "1223    Biden's desire to stop the border wall could b...\n",
       "908     Steve Bannon, three others charged with fraud ...\n",
       "483     Trump visits his border wall on the heels of d...\n",
       "1239    Trump administration locks down border wall co...\n",
       "169     Biden starts fast on immigration by halting bo...\n",
       "Name: headline, dtype: object"
      ]
     },
     "execution_count": 417,
     "metadata": {},
     "output_type": "execute_result"
    }
   ],
   "source": [
    "t = 'Defense Department slams brakes on border wall as it reviews Biden order'\n",
    "get_recommendations(t).head(5)#.to_csv('similar_recommendations.csv')"
   ]
  },
  {
   "cell_type": "code",
   "execution_count": 418,
   "metadata": {},
   "outputs": [],
   "source": [
    "all_articles['rating'] = 1"
   ]
  },
  {
   "cell_type": "code",
   "execution_count": 421,
   "metadata": {},
   "outputs": [
    {
     "data": {
      "text/html": [
       "<div>\n",
       "<style scoped>\n",
       "    .dataframe tbody tr th:only-of-type {\n",
       "        vertical-align: middle;\n",
       "    }\n",
       "\n",
       "    .dataframe tbody tr th {\n",
       "        vertical-align: top;\n",
       "    }\n",
       "\n",
       "    .dataframe thead th {\n",
       "        text-align: right;\n",
       "    }\n",
       "</style>\n",
       "<table border=\"1\" class=\"dataframe\">\n",
       "  <thead>\n",
       "    <tr style=\"text-align: right;\">\n",
       "      <th></th>\n",
       "      <th>user_id</th>\n",
       "      <th>article_id</th>\n",
       "      <th>timestamp</th>\n",
       "      <th>headline</th>\n",
       "      <th>url</th>\n",
       "      <th>published_date</th>\n",
       "      <th>rating</th>\n",
       "    </tr>\n",
       "  </thead>\n",
       "  <tbody>\n",
       "    <tr>\n",
       "      <th>0</th>\n",
       "      <td>2bc424123e0a12d29c488bb6e565fe98d0a49b46</td>\n",
       "      <td>e9d06b2bb42bd9970de43beab2d3893534d7a619</td>\n",
       "      <td>1611291180</td>\n",
       "      <td>Defense Department slams brakes on border wall...</td>\n",
       "      <td>https://www.cnn.com/2021/01/21/politics/border...</td>\n",
       "      <td>2021-01-21 21:45:03.000 Z</td>\n",
       "      <td>1</td>\n",
       "    </tr>\n",
       "    <tr>\n",
       "      <th>714</th>\n",
       "      <td>2bc424123e0a12d29c488bb6e565fe98d0a49b46</td>\n",
       "      <td>e98b0d02b16794bc0884a61c4a45746cb9430630</td>\n",
       "      <td>1611290464</td>\n",
       "      <td>Biden's DOJ must confront what to do with outs...</td>\n",
       "      <td>https://www.cnn.com/2021/01/21/politics/donald...</td>\n",
       "      <td>2021-01-22 02:11:02.000 Z</td>\n",
       "      <td>1</td>\n",
       "    </tr>\n",
       "  </tbody>\n",
       "</table>\n",
       "</div>"
      ],
      "text/plain": [
       "                                      user_id  \\\n",
       "0    2bc424123e0a12d29c488bb6e565fe98d0a49b46   \n",
       "714  2bc424123e0a12d29c488bb6e565fe98d0a49b46   \n",
       "\n",
       "                                   article_id   timestamp  \\\n",
       "0    e9d06b2bb42bd9970de43beab2d3893534d7a619  1611291180   \n",
       "714  e98b0d02b16794bc0884a61c4a45746cb9430630  1611290464   \n",
       "\n",
       "                                              headline  \\\n",
       "0    Defense Department slams brakes on border wall...   \n",
       "714  Biden's DOJ must confront what to do with outs...   \n",
       "\n",
       "                                                   url  \\\n",
       "0    https://www.cnn.com/2021/01/21/politics/border...   \n",
       "714  https://www.cnn.com/2021/01/21/politics/donald...   \n",
       "\n",
       "                published_date  rating  \n",
       "0    2021-01-21 21:45:03.000 Z       1  \n",
       "714  2021-01-22 02:11:02.000 Z       1  "
      ]
     },
     "execution_count": 421,
     "metadata": {},
     "output_type": "execute_result"
    }
   ],
   "source": [
    "msk3 = all_articles['user_id'] == '2bc424123e0a12d29c488bb6e565fe98d0a49b46'\n",
    "all_articles[msk3].head(2)"
   ]
  },
  {
   "cell_type": "code",
   "execution_count": 422,
   "metadata": {},
   "outputs": [],
   "source": [
    "g = df.groupby(['user_id', 'article_id'])['article_id'].count()#.to_frame()\n",
    "#ratings = g.rename('rating').to_frame().reset_index()\n",
    "article_counts = g.rename('rating').to_frame().reset_index()"
   ]
  },
  {
   "cell_type": "code",
   "execution_count": 423,
   "metadata": {},
   "outputs": [
    {
     "data": {
      "text/html": [
       "<div>\n",
       "<style scoped>\n",
       "    .dataframe tbody tr th:only-of-type {\n",
       "        vertical-align: middle;\n",
       "    }\n",
       "\n",
       "    .dataframe tbody tr th {\n",
       "        vertical-align: top;\n",
       "    }\n",
       "\n",
       "    .dataframe thead th {\n",
       "        text-align: right;\n",
       "    }\n",
       "</style>\n",
       "<table border=\"1\" class=\"dataframe\">\n",
       "  <thead>\n",
       "    <tr style=\"text-align: right;\">\n",
       "      <th></th>\n",
       "      <th>user_id</th>\n",
       "      <th>article_id</th>\n",
       "      <th>rating</th>\n",
       "    </tr>\n",
       "  </thead>\n",
       "  <tbody>\n",
       "    <tr>\n",
       "      <th>47</th>\n",
       "      <td>0006dbdc6f22fc3be0204942d416309efe82eb69</td>\n",
       "      <td>20699bd1f6dbe29c142e4fafba8e37c3145da027</td>\n",
       "      <td>4</td>\n",
       "    </tr>\n",
       "    <tr>\n",
       "      <th>86</th>\n",
       "      <td>000beb56a84772c98ed86f43ef605c3533224e04</td>\n",
       "      <td>9b951443de50bcf084324600050028118817ddc4</td>\n",
       "      <td>2</td>\n",
       "    </tr>\n",
       "  </tbody>\n",
       "</table>\n",
       "</div>"
      ],
      "text/plain": [
       "                                     user_id  \\\n",
       "47  0006dbdc6f22fc3be0204942d416309efe82eb69   \n",
       "86  000beb56a84772c98ed86f43ef605c3533224e04   \n",
       "\n",
       "                                  article_id  rating  \n",
       "47  20699bd1f6dbe29c142e4fafba8e37c3145da027       4  \n",
       "86  9b951443de50bcf084324600050028118817ddc4       2  "
      ]
     },
     "execution_count": 423,
     "metadata": {},
     "output_type": "execute_result"
    }
   ],
   "source": [
    "ratings[ratings['rating'] > 1].head(2)"
   ]
  },
  {
   "cell_type": "code",
   "execution_count": 424,
   "metadata": {},
   "outputs": [
    {
     "data": {
      "text/html": [
       "<div>\n",
       "<style scoped>\n",
       "    .dataframe tbody tr th:only-of-type {\n",
       "        vertical-align: middle;\n",
       "    }\n",
       "\n",
       "    .dataframe tbody tr th {\n",
       "        vertical-align: top;\n",
       "    }\n",
       "\n",
       "    .dataframe thead th {\n",
       "        text-align: right;\n",
       "    }\n",
       "</style>\n",
       "<table border=\"1\" class=\"dataframe\">\n",
       "  <thead>\n",
       "    <tr style=\"text-align: right;\">\n",
       "      <th></th>\n",
       "      <th>user_id</th>\n",
       "      <th>article_id</th>\n",
       "      <th>rating</th>\n",
       "    </tr>\n",
       "  </thead>\n",
       "  <tbody>\n",
       "    <tr>\n",
       "      <th>0</th>\n",
       "      <td>0002604d5804123dedb91819acbc93f888c54b8e</td>\n",
       "      <td>534c4076ad58bee6998339f70a018a0330cdcbf5</td>\n",
       "      <td>1</td>\n",
       "    </tr>\n",
       "    <tr>\n",
       "      <th>1</th>\n",
       "      <td>0002604d5804123dedb91819acbc93f888c54b8e</td>\n",
       "      <td>6ab428f68d0fa9a6405a508751acc8ef0b9ee4ff</td>\n",
       "      <td>1</td>\n",
       "    </tr>\n",
       "    <tr>\n",
       "      <th>2</th>\n",
       "      <td>0002604d5804123dedb91819acbc93f888c54b8e</td>\n",
       "      <td>9260080e038b6274f850d9e82712dc395e26e091</td>\n",
       "      <td>1</td>\n",
       "    </tr>\n",
       "    <tr>\n",
       "      <th>3</th>\n",
       "      <td>0002604d5804123dedb91819acbc93f888c54b8e</td>\n",
       "      <td>b38cb1d061da04da1b3bc14082317a2f9e9fd300</td>\n",
       "      <td>1</td>\n",
       "    </tr>\n",
       "    <tr>\n",
       "      <th>4</th>\n",
       "      <td>0002604d5804123dedb91819acbc93f888c54b8e</td>\n",
       "      <td>f09985cd3473960ea8c464e24ade4de4a8c1f8f0</td>\n",
       "      <td>1</td>\n",
       "    </tr>\n",
       "    <tr>\n",
       "      <th>5</th>\n",
       "      <td>0002604d5804123dedb91819acbc93f888c54b8e</td>\n",
       "      <td>f4bfbf1c7b245390cf57aab2445102d6d7573825</td>\n",
       "      <td>1</td>\n",
       "    </tr>\n",
       "    <tr>\n",
       "      <th>6</th>\n",
       "      <td>0003728d0245028f76f7a655241a07181d1be815</td>\n",
       "      <td>0dc502c9dfe4dbd472cfc5a745f8b1d3361b05ed</td>\n",
       "      <td>1</td>\n",
       "    </tr>\n",
       "    <tr>\n",
       "      <th>7</th>\n",
       "      <td>0003728d0245028f76f7a655241a07181d1be815</td>\n",
       "      <td>0e10125561d99d714a577dcc4bd6972e0cb70a1e</td>\n",
       "      <td>1</td>\n",
       "    </tr>\n",
       "    <tr>\n",
       "      <th>8</th>\n",
       "      <td>0003728d0245028f76f7a655241a07181d1be815</td>\n",
       "      <td>2f790fadb623c58c932e50774eccdd1db56205ef</td>\n",
       "      <td>1</td>\n",
       "    </tr>\n",
       "    <tr>\n",
       "      <th>9</th>\n",
       "      <td>0003728d0245028f76f7a655241a07181d1be815</td>\n",
       "      <td>4bfdf06da4852a06da783456cc61e9504fb8e434</td>\n",
       "      <td>1</td>\n",
       "    </tr>\n",
       "  </tbody>\n",
       "</table>\n",
       "</div>"
      ],
      "text/plain": [
       "                                    user_id  \\\n",
       "0  0002604d5804123dedb91819acbc93f888c54b8e   \n",
       "1  0002604d5804123dedb91819acbc93f888c54b8e   \n",
       "2  0002604d5804123dedb91819acbc93f888c54b8e   \n",
       "3  0002604d5804123dedb91819acbc93f888c54b8e   \n",
       "4  0002604d5804123dedb91819acbc93f888c54b8e   \n",
       "5  0002604d5804123dedb91819acbc93f888c54b8e   \n",
       "6  0003728d0245028f76f7a655241a07181d1be815   \n",
       "7  0003728d0245028f76f7a655241a07181d1be815   \n",
       "8  0003728d0245028f76f7a655241a07181d1be815   \n",
       "9  0003728d0245028f76f7a655241a07181d1be815   \n",
       "\n",
       "                                 article_id  rating  \n",
       "0  534c4076ad58bee6998339f70a018a0330cdcbf5       1  \n",
       "1  6ab428f68d0fa9a6405a508751acc8ef0b9ee4ff       1  \n",
       "2  9260080e038b6274f850d9e82712dc395e26e091       1  \n",
       "3  b38cb1d061da04da1b3bc14082317a2f9e9fd300       1  \n",
       "4  f09985cd3473960ea8c464e24ade4de4a8c1f8f0       1  \n",
       "5  f4bfbf1c7b245390cf57aab2445102d6d7573825       1  \n",
       "6  0dc502c9dfe4dbd472cfc5a745f8b1d3361b05ed       1  \n",
       "7  0e10125561d99d714a577dcc4bd6972e0cb70a1e       1  \n",
       "8  2f790fadb623c58c932e50774eccdd1db56205ef       1  \n",
       "9  4bfdf06da4852a06da783456cc61e9504fb8e434       1  "
      ]
     },
     "execution_count": 424,
     "metadata": {},
     "output_type": "execute_result"
    }
   ],
   "source": [
    "article_counts.head(10)"
   ]
  },
  {
   "cell_type": "code",
   "execution_count": 425,
   "metadata": {},
   "outputs": [
    {
     "data": {
      "text/html": [
       "<div>\n",
       "<style scoped>\n",
       "    .dataframe tbody tr th:only-of-type {\n",
       "        vertical-align: middle;\n",
       "    }\n",
       "\n",
       "    .dataframe tbody tr th {\n",
       "        vertical-align: top;\n",
       "    }\n",
       "\n",
       "    .dataframe thead th {\n",
       "        text-align: right;\n",
       "    }\n",
       "</style>\n",
       "<table border=\"1\" class=\"dataframe\">\n",
       "  <thead>\n",
       "    <tr style=\"text-align: right;\">\n",
       "      <th></th>\n",
       "      <th>user_id</th>\n",
       "      <th>number_of_visited_articles</th>\n",
       "    </tr>\n",
       "  </thead>\n",
       "  <tbody>\n",
       "    <tr>\n",
       "      <th>0</th>\n",
       "      <td>0002604d5804123dedb91819acbc93f888c54b8e</td>\n",
       "      <td>6</td>\n",
       "    </tr>\n",
       "    <tr>\n",
       "      <th>1</th>\n",
       "      <td>0003728d0245028f76f7a655241a07181d1be815</td>\n",
       "      <td>20</td>\n",
       "    </tr>\n",
       "    <tr>\n",
       "      <th>2</th>\n",
       "      <td>000430b60d8f1dfbc40f387c57a83989f9fa93a9</td>\n",
       "      <td>14</td>\n",
       "    </tr>\n",
       "    <tr>\n",
       "      <th>3</th>\n",
       "      <td>0004c5445d969cabdb55c8fa69f3fd5212723032</td>\n",
       "      <td>3</td>\n",
       "    </tr>\n",
       "    <tr>\n",
       "      <th>4</th>\n",
       "      <td>0005c0d4d9f01b62578a4987a7ec4fcd95fada4a</td>\n",
       "      <td>4</td>\n",
       "    </tr>\n",
       "    <tr>\n",
       "      <th>...</th>\n",
       "      <td>...</td>\n",
       "      <td>...</td>\n",
       "    </tr>\n",
       "    <tr>\n",
       "      <th>49995</th>\n",
       "      <td>fffb5887fbd6f820ca50ce3787fdd8bd2c87a3c4</td>\n",
       "      <td>9</td>\n",
       "    </tr>\n",
       "    <tr>\n",
       "      <th>49996</th>\n",
       "      <td>fffbacf805a9436e177d6b243883fc2c7832ab5e</td>\n",
       "      <td>9</td>\n",
       "    </tr>\n",
       "    <tr>\n",
       "      <th>49997</th>\n",
       "      <td>fffca37521dbe342b103e4c05a70522291240f1e</td>\n",
       "      <td>20</td>\n",
       "    </tr>\n",
       "    <tr>\n",
       "      <th>49998</th>\n",
       "      <td>ffff1ae26738234ebd6ccfdb2fa197a409f0e65b</td>\n",
       "      <td>7</td>\n",
       "    </tr>\n",
       "    <tr>\n",
       "      <th>49999</th>\n",
       "      <td>ffffe41f55b177de68e1d70d1e77f8adf65ee4e8</td>\n",
       "      <td>3</td>\n",
       "    </tr>\n",
       "  </tbody>\n",
       "</table>\n",
       "<p>50000 rows × 2 columns</p>\n",
       "</div>"
      ],
      "text/plain": [
       "                                        user_id  number_of_visited_articles\n",
       "0      0002604d5804123dedb91819acbc93f888c54b8e                           6\n",
       "1      0003728d0245028f76f7a655241a07181d1be815                          20\n",
       "2      000430b60d8f1dfbc40f387c57a83989f9fa93a9                          14\n",
       "3      0004c5445d969cabdb55c8fa69f3fd5212723032                           3\n",
       "4      0005c0d4d9f01b62578a4987a7ec4fcd95fada4a                           4\n",
       "...                                         ...                         ...\n",
       "49995  fffb5887fbd6f820ca50ce3787fdd8bd2c87a3c4                           9\n",
       "49996  fffbacf805a9436e177d6b243883fc2c7832ab5e                           9\n",
       "49997  fffca37521dbe342b103e4c05a70522291240f1e                          20\n",
       "49998  ffff1ae26738234ebd6ccfdb2fa197a409f0e65b                           7\n",
       "49999  ffffe41f55b177de68e1d70d1e77f8adf65ee4e8                           3\n",
       "\n",
       "[50000 rows x 2 columns]"
      ]
     },
     "execution_count": 425,
     "metadata": {},
     "output_type": "execute_result"
    }
   ],
   "source": [
    "number_of_visited_articles = df.groupby(['user_id'])['article_id'].count().to_frame().reset_index().rename({'article_id': 'number_of_visited_articles'}, axis=1)\n",
    "number_of_visited_articles"
   ]
  },
  {
   "cell_type": "code",
   "execution_count": 426,
   "metadata": {},
   "outputs": [],
   "source": [
    "article_counts_merged = pd.merge(number_of_visited_articles, article_counts)"
   ]
  },
  {
   "cell_type": "code",
   "execution_count": 427,
   "metadata": {},
   "outputs": [],
   "source": [
    "article_counts_merged['normalized_rating'] = article_counts_merged['rating'] / article_counts_merged['number_of_visited_articles']"
   ]
  },
  {
   "cell_type": "code",
   "execution_count": 428,
   "metadata": {},
   "outputs": [],
   "source": [
    "# add normalized ratings\n",
    "df = pd.merge(df, article_counts_merged.drop(['rating'], axis=1))"
   ]
  },
  {
   "cell_type": "code",
   "execution_count": 429,
   "metadata": {},
   "outputs": [
    {
     "data": {
      "text/html": [
       "<div>\n",
       "<style scoped>\n",
       "    .dataframe tbody tr th:only-of-type {\n",
       "        vertical-align: middle;\n",
       "    }\n",
       "\n",
       "    .dataframe tbody tr th {\n",
       "        vertical-align: top;\n",
       "    }\n",
       "\n",
       "    .dataframe thead th {\n",
       "        text-align: right;\n",
       "    }\n",
       "</style>\n",
       "<table border=\"1\" class=\"dataframe\">\n",
       "  <thead>\n",
       "    <tr style=\"text-align: right;\">\n",
       "      <th></th>\n",
       "      <th></th>\n",
       "      <th>rating</th>\n",
       "    </tr>\n",
       "    <tr>\n",
       "      <th>user_id</th>\n",
       "      <th>article_id</th>\n",
       "      <th></th>\n",
       "    </tr>\n",
       "  </thead>\n",
       "  <tbody>\n",
       "    <tr>\n",
       "      <th>0006dbdc6f22fc3be0204942d416309efe82eb69</th>\n",
       "      <th>20699bd1f6dbe29c142e4fafba8e37c3145da027</th>\n",
       "      <td>4</td>\n",
       "    </tr>\n",
       "    <tr>\n",
       "      <th>000beb56a84772c98ed86f43ef605c3533224e04</th>\n",
       "      <th>9b951443de50bcf084324600050028118817ddc4</th>\n",
       "      <td>2</td>\n",
       "    </tr>\n",
       "    <tr>\n",
       "      <th>00193047cbef4957c66c16e3c212817a78c542fd</th>\n",
       "      <th>7c3c7d84275bf16786d1cdc92e5ec73ef5db6277</th>\n",
       "      <td>2</td>\n",
       "    </tr>\n",
       "    <tr>\n",
       "      <th rowspan=\"2\" valign=\"top\">001b4f187a9c5930b190b6673bd5504a558ba52a</th>\n",
       "      <th>709a1c6ea25c6783f095508e3a654c2c509ef08c</th>\n",
       "      <td>2</td>\n",
       "    </tr>\n",
       "    <tr>\n",
       "      <th>8bff315e3ecdc22d5bbdae3a1cc37f48179fdfd3</th>\n",
       "      <td>2</td>\n",
       "    </tr>\n",
       "    <tr>\n",
       "      <th>...</th>\n",
       "      <th>...</th>\n",
       "      <td>...</td>\n",
       "    </tr>\n",
       "    <tr>\n",
       "      <th>fff56268e977ba77a9321de6759887db9e11f902</th>\n",
       "      <th>964b98d1ed8f3a97d7338fdfbb9fa675bad3559a</th>\n",
       "      <td>2</td>\n",
       "    </tr>\n",
       "    <tr>\n",
       "      <th>fffad616517c702809ebfac8e3d1bcaf762b471a</th>\n",
       "      <th>5040fd6e29c834e8bb916cb5b2cf88dc837577a1</th>\n",
       "      <td>3</td>\n",
       "    </tr>\n",
       "    <tr>\n",
       "      <th>fffb5887fbd6f820ca50ce3787fdd8bd2c87a3c4</th>\n",
       "      <th>db28270c836816d3674dde7c5139de7c170bc877</th>\n",
       "      <td>2</td>\n",
       "    </tr>\n",
       "    <tr>\n",
       "      <th>fffca37521dbe342b103e4c05a70522291240f1e</th>\n",
       "      <th>77e2fe5aa1b34a93491af7516ae6e12fc1d37b28</th>\n",
       "      <td>2</td>\n",
       "    </tr>\n",
       "    <tr>\n",
       "      <th>ffff1ae26738234ebd6ccfdb2fa197a409f0e65b</th>\n",
       "      <th>438d69f8171684bc46694a4afe17dda8fde280e0</th>\n",
       "      <td>2</td>\n",
       "    </tr>\n",
       "  </tbody>\n",
       "</table>\n",
       "<p>39819 rows × 1 columns</p>\n",
       "</div>"
      ],
      "text/plain": [
       "                                                                                   rating\n",
       "user_id                                  article_id                                      \n",
       "0006dbdc6f22fc3be0204942d416309efe82eb69 20699bd1f6dbe29c142e4fafba8e37c3145da027       4\n",
       "000beb56a84772c98ed86f43ef605c3533224e04 9b951443de50bcf084324600050028118817ddc4       2\n",
       "00193047cbef4957c66c16e3c212817a78c542fd 7c3c7d84275bf16786d1cdc92e5ec73ef5db6277       2\n",
       "001b4f187a9c5930b190b6673bd5504a558ba52a 709a1c6ea25c6783f095508e3a654c2c509ef08c       2\n",
       "                                         8bff315e3ecdc22d5bbdae3a1cc37f48179fdfd3       2\n",
       "...                                                                                   ...\n",
       "fff56268e977ba77a9321de6759887db9e11f902 964b98d1ed8f3a97d7338fdfbb9fa675bad3559a       2\n",
       "fffad616517c702809ebfac8e3d1bcaf762b471a 5040fd6e29c834e8bb916cb5b2cf88dc837577a1       3\n",
       "fffb5887fbd6f820ca50ce3787fdd8bd2c87a3c4 db28270c836816d3674dde7c5139de7c170bc877       2\n",
       "fffca37521dbe342b103e4c05a70522291240f1e 77e2fe5aa1b34a93491af7516ae6e12fc1d37b28       2\n",
       "ffff1ae26738234ebd6ccfdb2fa197a409f0e65b 438d69f8171684bc46694a4afe17dda8fde280e0       2\n",
       "\n",
       "[39819 rows x 1 columns]"
      ]
     },
     "execution_count": 429,
     "metadata": {},
     "output_type": "execute_result"
    }
   ],
   "source": [
    "p = ratings.groupby(['user_id', 'article_id']).sum()['rating'].to_frame()\n",
    "p[p['rating'] > 1]"
   ]
  },
  {
   "cell_type": "markdown",
   "metadata": {},
   "source": []
  },
  {
   "cell_type": "code",
   "execution_count": 430,
   "metadata": {},
   "outputs": [
    {
     "data": {
      "text/plain": [
       "{'test_rmse': array([0.88737601, 0.88714016, 0.88722031, 0.88736068, 0.88746047]),\n",
       " 'test_mae': array([0.88217455, 0.88187476, 0.88196833, 0.88211519, 0.88221476]),\n",
       " 'fit_time': (19.885215997695923,\n",
       "  20.038259983062744,\n",
       "  19.758590936660767,\n",
       "  19.764885902404785,\n",
       "  19.875874996185303),\n",
       " 'test_time': (0.824937105178833,\n",
       "  0.768557071685791,\n",
       "  0.767301082611084,\n",
       "  0.756016731262207,\n",
       "  0.7778670787811279)}"
      ]
     },
     "execution_count": 430,
     "metadata": {},
     "output_type": "execute_result"
    }
   ],
   "source": [
    "import surprise\n",
    "from surprise import Reader, Dataset, SVD, model_selection#, evaluate\n",
    "svd = SVD()\n",
    "reader = Reader()\n",
    "data = Dataset.load_from_df(df[['user_id', 'article_id', 'normalized_rating']], reader)\n",
    "model_selection.cross_validate(svd, data, measures=['RMSE', 'MAE'])"
   ]
  },
  {
   "cell_type": "code",
   "execution_count": 431,
   "metadata": {},
   "outputs": [
    {
     "data": {
      "text/plain": [
       "<surprise.prediction_algorithms.matrix_factorization.SVD at 0x7f89d1a61f10>"
      ]
     },
     "execution_count": 431,
     "metadata": {},
     "output_type": "execute_result"
    }
   ],
   "source": [
    "trainset = data.build_full_trainset()\n",
    "svd.fit(trainset)"
   ]
  },
  {
   "cell_type": "code",
   "execution_count": 375,
   "metadata": {},
   "outputs": [
    {
     "data": {
      "text/plain": [
       "Prediction(uid='0002604d5804123dedb91819acbc93f888c54b8e', iid='fffb5887fbd6f820ca50ce3787fdd8bd2c87a3c4', r_ui=3, est=1, details={'was_impossible': False})"
      ]
     },
     "execution_count": 375,
     "metadata": {},
     "output_type": "execute_result"
    }
   ],
   "source": [
    "svd.predict('0002604d5804123dedb91819acbc93f888c54b8e', 'fffb5887fbd6f820ca50ce3787fdd8bd2c87a3c4', 3)"
   ]
  },
  {
   "cell_type": "code",
   "execution_count": 376,
   "metadata": {},
   "outputs": [],
   "source": [
    "def get_recommendations_from_user_id_headline(user_id, headline):\n",
    "    idx = indices[headline]\n",
    "    sim_scores = list(enumerate(cosine_sim[int(idx)]))\n",
    "    sim_scores = sorted(sim_scores, key=lambda x: x[1], reverse=True)\n",
    "    sim_scores = sim_scores[1:26]\n",
    "    article_indices = [i[0] for i in sim_scores]\n",
    "    \n",
    "    articles_tmp = articles.iloc[article_indices][['headline', 'article_id']]\n",
    "    articles_tmp['est'] = articles_tmp.apply(lambda x: svd.predict(user_id, x['article_id']).est, axis=1)\n",
    "    articles_tmp = articles_tmp.sort_values('est', ascending=False)\n",
    "    return articles.head(5)"
   ]
  },
  {
   "cell_type": "code",
   "execution_count": 377,
   "metadata": {},
   "outputs": [
    {
     "data": {
      "text/html": [
       "<div>\n",
       "<style scoped>\n",
       "    .dataframe tbody tr th:only-of-type {\n",
       "        vertical-align: middle;\n",
       "    }\n",
       "\n",
       "    .dataframe tbody tr th {\n",
       "        vertical-align: top;\n",
       "    }\n",
       "\n",
       "    .dataframe thead th {\n",
       "        text-align: right;\n",
       "    }\n",
       "</style>\n",
       "<table border=\"1\" class=\"dataframe\">\n",
       "  <thead>\n",
       "    <tr style=\"text-align: right;\">\n",
       "      <th></th>\n",
       "      <th>article_id</th>\n",
       "      <th>headline</th>\n",
       "      <th>url</th>\n",
       "      <th>published_date</th>\n",
       "    </tr>\n",
       "  </thead>\n",
       "  <tbody>\n",
       "    <tr>\n",
       "      <th>0</th>\n",
       "      <td>e9d06b2bb42bd9970de43beab2d3893534d7a619</td>\n",
       "      <td>Defense Department slams brakes on border wall...</td>\n",
       "      <td>https://www.cnn.com/2021/01/21/politics/border...</td>\n",
       "      <td>2021-01-21 21:45:03.000 Z</td>\n",
       "    </tr>\n",
       "    <tr>\n",
       "      <th>1</th>\n",
       "      <td>e98b0d02b16794bc0884a61c4a45746cb9430630</td>\n",
       "      <td>Biden's DOJ must confront what to do with outs...</td>\n",
       "      <td>https://www.cnn.com/2021/01/21/politics/donald...</td>\n",
       "      <td>2021-01-22 02:11:02.000 Z</td>\n",
       "    </tr>\n",
       "  </tbody>\n",
       "</table>\n",
       "</div>"
      ],
      "text/plain": [
       "                                 article_id  \\\n",
       "0  e9d06b2bb42bd9970de43beab2d3893534d7a619   \n",
       "1  e98b0d02b16794bc0884a61c4a45746cb9430630   \n",
       "\n",
       "                                            headline  \\\n",
       "0  Defense Department slams brakes on border wall...   \n",
       "1  Biden's DOJ must confront what to do with outs...   \n",
       "\n",
       "                                                 url  \\\n",
       "0  https://www.cnn.com/2021/01/21/politics/border...   \n",
       "1  https://www.cnn.com/2021/01/21/politics/donald...   \n",
       "\n",
       "              published_date  \n",
       "0  2021-01-21 21:45:03.000 Z  \n",
       "1  2021-01-22 02:11:02.000 Z  "
      ]
     },
     "execution_count": 377,
     "metadata": {},
     "output_type": "execute_result"
    }
   ],
   "source": [
    "articles.head(2)"
   ]
  },
  {
   "cell_type": "code",
   "execution_count": 378,
   "metadata": {},
   "outputs": [
    {
     "data": {
      "text/html": [
       "<div>\n",
       "<style scoped>\n",
       "    .dataframe tbody tr th:only-of-type {\n",
       "        vertical-align: middle;\n",
       "    }\n",
       "\n",
       "    .dataframe tbody tr th {\n",
       "        vertical-align: top;\n",
       "    }\n",
       "\n",
       "    .dataframe thead th {\n",
       "        text-align: right;\n",
       "    }\n",
       "</style>\n",
       "<table border=\"1\" class=\"dataframe\">\n",
       "  <thead>\n",
       "    <tr style=\"text-align: right;\">\n",
       "      <th></th>\n",
       "      <th>index</th>\n",
       "      <th>user_id</th>\n",
       "      <th>article_id</th>\n",
       "      <th>timestamp</th>\n",
       "      <th>headline</th>\n",
       "      <th>url</th>\n",
       "      <th>published_date</th>\n",
       "    </tr>\n",
       "  </thead>\n",
       "  <tbody>\n",
       "    <tr>\n",
       "      <th>0</th>\n",
       "      <td>0</td>\n",
       "      <td>2bc424123e0a12d29c488bb6e565fe98d0a49b46</td>\n",
       "      <td>e9d06b2bb42bd9970de43beab2d3893534d7a619</td>\n",
       "      <td>1611291180</td>\n",
       "      <td>Defense Department slams brakes on border wall...</td>\n",
       "      <td>https://www.cnn.com/2021/01/21/politics/border...</td>\n",
       "      <td>2021-01-21 21:45:03.000 Z</td>\n",
       "    </tr>\n",
       "    <tr>\n",
       "      <th>1</th>\n",
       "      <td>1</td>\n",
       "      <td>b5c93b1ce2245fe8a4d59aedbd6c33a8b315bf60</td>\n",
       "      <td>e9d06b2bb42bd9970de43beab2d3893534d7a619</td>\n",
       "      <td>1611255943</td>\n",
       "      <td>Defense Department slams brakes on border wall...</td>\n",
       "      <td>https://www.cnn.com/2021/01/21/politics/border...</td>\n",
       "      <td>2021-01-21 21:45:03.000 Z</td>\n",
       "    </tr>\n",
       "  </tbody>\n",
       "</table>\n",
       "</div>"
      ],
      "text/plain": [
       "   index                                   user_id  \\\n",
       "0      0  2bc424123e0a12d29c488bb6e565fe98d0a49b46   \n",
       "1      1  b5c93b1ce2245fe8a4d59aedbd6c33a8b315bf60   \n",
       "\n",
       "                                 article_id   timestamp  \\\n",
       "0  e9d06b2bb42bd9970de43beab2d3893534d7a619  1611291180   \n",
       "1  e9d06b2bb42bd9970de43beab2d3893534d7a619  1611255943   \n",
       "\n",
       "                                            headline  \\\n",
       "0  Defense Department slams brakes on border wall...   \n",
       "1  Defense Department slams brakes on border wall...   \n",
       "\n",
       "                                                 url  \\\n",
       "0  https://www.cnn.com/2021/01/21/politics/border...   \n",
       "1  https://www.cnn.com/2021/01/21/politics/border...   \n",
       "\n",
       "              published_date  \n",
       "0  2021-01-21 21:45:03.000 Z  \n",
       "1  2021-01-21 21:45:03.000 Z  "
      ]
     },
     "execution_count": 378,
     "metadata": {},
     "output_type": "execute_result"
    }
   ],
   "source": [
    "smd.head(2)"
   ]
  },
  {
   "cell_type": "code",
   "execution_count": 1,
   "metadata": {
    "scrolled": true
   },
   "outputs": [
    {
     "ename": "NameError",
     "evalue": "name 'get_recommendations_from_user_id_headline' is not defined",
     "output_type": "error",
     "traceback": [
      "\u001b[0;31m---------------------------------------------------------------------------\u001b[0m",
      "\u001b[0;31mNameError\u001b[0m                                 Traceback (most recent call last)",
      "\u001b[0;32m<ipython-input-1-f5ec2a1d9e64>\u001b[0m in \u001b[0;36m<module>\u001b[0;34m\u001b[0m\n\u001b[1;32m      1\u001b[0m \u001b[0muser_id\u001b[0m \u001b[0;34m=\u001b[0m \u001b[0;34m'2bc424123e0a12d29c488bb6e565fe98d0a49b46'\u001b[0m\u001b[0;34m\u001b[0m\u001b[0;34m\u001b[0m\u001b[0m\n\u001b[1;32m      2\u001b[0m \u001b[0mheadline\u001b[0m \u001b[0;34m=\u001b[0m \u001b[0;34m'Defense Department slams brakes on border wall as it reviews Biden order'\u001b[0m\u001b[0;34m\u001b[0m\u001b[0;34m\u001b[0m\u001b[0m\n\u001b[0;32m----> 3\u001b[0;31m \u001b[0mget_recommendations_from_user_id_headline\u001b[0m\u001b[0;34m(\u001b[0m\u001b[0muser_id\u001b[0m\u001b[0;34m,\u001b[0m \u001b[0mheadline\u001b[0m\u001b[0;34m)\u001b[0m\u001b[0;34m\u001b[0m\u001b[0;34m\u001b[0m\u001b[0m\n\u001b[0m\u001b[1;32m      4\u001b[0m \u001b[0;34m\u001b[0m\u001b[0m\n\u001b[1;32m      5\u001b[0m \u001b[0;31m# can't find this: 'article_id'\u001b[0m\u001b[0;34m\u001b[0m\u001b[0;34m\u001b[0m\u001b[0;34m\u001b[0m\u001b[0m\n",
      "\u001b[0;31mNameError\u001b[0m: name 'get_recommendations_from_user_id_headline' is not defined"
     ]
    }
   ],
   "source": [
    "user_id = '2bc424123e0a12d29c488bb6e565fe98d0a49b46'\n",
    "headline = 'Defense Department slams brakes on border wall as it reviews Biden order'\n",
    "get_recommendations_from_user_id_headline(user_id, headline)\n",
    "\n",
    "# can't find this: 'article_id'"
   ]
  },
  {
   "cell_type": "code",
   "execution_count": 381,
   "metadata": {},
   "outputs": [],
   "source": [
    "def get_user_history_headlines(user_id: str) -> set:\n",
    "    msk = all_articles['user_id'] == user_id\n",
    "    headlines = all_articles[msk]['headline'].unique()\n",
    "    return headlines"
   ]
  },
  {
   "cell_type": "code",
   "execution_count": 382,
   "metadata": {},
   "outputs": [
    {
     "data": {
      "text/plain": [
       "array(['Defense Department slams brakes on border wall as it reviews Biden order',\n",
       "       \"Biden's DOJ must confront what to do with outstanding cases in which it is defending Trump. The first test could come Friday.\",\n",
       "       'White House wants Democrats to be patient on stimulus talks as Biden pushes for bipartisan path, officials say',\n",
       "       \"The Supreme Court's run out of excuses to avoid controversial issues\",\n",
       "       'Evidence shows Capitol rioters brutally attacked police with flagpoles, fire extinguishers and fists',\n",
       "       'Four presidents take a stand',\n",
       "       'I went to Washington for joy, and Amanda Gorman delivered it',\n",
       "       \"Syroco vs SP80: The race to create the world's fastest sail boat\",\n",
       "       'Here are the 30 executive orders and actions Biden signed in his first three days',\n",
       "       \"Joe Biden grieves Covid victims on eve of his inauguration: 'To heal, we must remember'\",\n",
       "       'Putin presents a Russia-sized foreign-policy headache for Biden',\n",
       "       'Why Republicans are still in charge of some key Senate proceedings as Schumer and McConnell work on power-sharing',\n",
       "       'Bidens quickly fire White House chief usher installed by Trump',\n",
       "       'Michelle Obama wows US presidential inauguration in head-to-toe plum and burgundy',\n",
       "       '5 things to know for January 21: Inauguration, White House, Covid-19, Libya, Russia',\n",
       "       'How airbag jeans and high-tech vests could make motorbikes safer',\n",
       "       'Arizona GOP censures Flake, Ducey and McCain, signaling a fractured party in a key swing state',\n",
       "       \"Amanda Gorman calls on Americans to 'leave behind a country better than the one we were left' in powerful inauguration poem\",\n",
       "       \"Trump has left, but some of his supporters still think he's about to declare martial law -- and they're excited\"],\n",
       "      dtype=object)"
      ]
     },
     "execution_count": 382,
     "metadata": {},
     "output_type": "execute_result"
    }
   ],
   "source": [
    "get_user_history_headlines(user_id)"
   ]
  },
  {
   "cell_type": "code",
   "execution_count": 383,
   "metadata": {},
   "outputs": [
    {
     "data": {
      "text/plain": [
       "'2bc424123e0a12d29c488bb6e565fe98d0a49b46'"
      ]
     },
     "execution_count": 383,
     "metadata": {},
     "output_type": "execute_result"
    }
   ],
   "source": [
    "user_id"
   ]
  },
  {
   "cell_type": "code",
   "execution_count": 384,
   "metadata": {},
   "outputs": [],
   "source": [
    "dfs = []\n",
    "for i, headline in enumerate(get_user_history_headlines(user_id)):\n",
    "    user_history_headlines = get_recommendations_from_user_id_headline(user_id, headline)\n",
    "    for headline in user_history_headlines['headline'].unique():\n",
    "        try:\n",
    "            recs = get_recommendations_from_user_id_headline(user_id, headline)\n",
    "            dfs.append(recs)\n",
    "        except:\n",
    "            print('user_id', user_id)\n",
    "            print('headline', headline)"
   ]
  },
  {
   "cell_type": "code",
   "execution_count": 385,
   "metadata": {},
   "outputs": [
    {
     "data": {
      "text/html": [
       "<div>\n",
       "<style scoped>\n",
       "    .dataframe tbody tr th:only-of-type {\n",
       "        vertical-align: middle;\n",
       "    }\n",
       "\n",
       "    .dataframe tbody tr th {\n",
       "        vertical-align: top;\n",
       "    }\n",
       "\n",
       "    .dataframe thead th {\n",
       "        text-align: right;\n",
       "    }\n",
       "</style>\n",
       "<table border=\"1\" class=\"dataframe\">\n",
       "  <thead>\n",
       "    <tr style=\"text-align: right;\">\n",
       "      <th></th>\n",
       "      <th>article_id</th>\n",
       "      <th>headline</th>\n",
       "      <th>url</th>\n",
       "      <th>published_date</th>\n",
       "    </tr>\n",
       "  </thead>\n",
       "  <tbody>\n",
       "    <tr>\n",
       "      <th>0</th>\n",
       "      <td>e9d06b2bb42bd9970de43beab2d3893534d7a619</td>\n",
       "      <td>Defense Department slams brakes on border wall...</td>\n",
       "      <td>https://www.cnn.com/2021/01/21/politics/border...</td>\n",
       "      <td>2021-01-21 21:45:03.000 Z</td>\n",
       "    </tr>\n",
       "    <tr>\n",
       "      <th>1</th>\n",
       "      <td>e98b0d02b16794bc0884a61c4a45746cb9430630</td>\n",
       "      <td>Biden's DOJ must confront what to do with outs...</td>\n",
       "      <td>https://www.cnn.com/2021/01/21/politics/donald...</td>\n",
       "      <td>2021-01-22 02:11:02.000 Z</td>\n",
       "    </tr>\n",
       "    <tr>\n",
       "      <th>2</th>\n",
       "      <td>05f51c586ada891448ab56d9a5c8adb2a688e2fb</td>\n",
       "      <td>White House wants Democrats to be patient on s...</td>\n",
       "      <td>https://www.cnn.com/2021/01/22/politics/covid-...</td>\n",
       "      <td>2021-01-22 21:53:55.000 Z</td>\n",
       "    </tr>\n",
       "    <tr>\n",
       "      <th>3</th>\n",
       "      <td>91333a3c6d28c9241cbb01678a97699232b79e70</td>\n",
       "      <td>The Supreme Court's run out of excuses to avoi...</td>\n",
       "      <td>https://www.cnn.com/2021/01/24/politics/suprem...</td>\n",
       "      <td>2021-01-24 18:42:26.000 Z</td>\n",
       "    </tr>\n",
       "    <tr>\n",
       "      <th>4</th>\n",
       "      <td>30170d08779c54b84170d4cb3b5cbe0462df704a</td>\n",
       "      <td>Evidence shows Capitol rioters brutally attack...</td>\n",
       "      <td>https://www.cnn.com/2021/01/21/politics/capito...</td>\n",
       "      <td>2021-01-21 12:45:30.000 Z</td>\n",
       "    </tr>\n",
       "    <tr>\n",
       "      <th>...</th>\n",
       "      <td>...</td>\n",
       "      <td>...</td>\n",
       "      <td>...</td>\n",
       "      <td>...</td>\n",
       "    </tr>\n",
       "    <tr>\n",
       "      <th>0</th>\n",
       "      <td>e9d06b2bb42bd9970de43beab2d3893534d7a619</td>\n",
       "      <td>Defense Department slams brakes on border wall...</td>\n",
       "      <td>https://www.cnn.com/2021/01/21/politics/border...</td>\n",
       "      <td>2021-01-21 21:45:03.000 Z</td>\n",
       "    </tr>\n",
       "    <tr>\n",
       "      <th>1</th>\n",
       "      <td>e98b0d02b16794bc0884a61c4a45746cb9430630</td>\n",
       "      <td>Biden's DOJ must confront what to do with outs...</td>\n",
       "      <td>https://www.cnn.com/2021/01/21/politics/donald...</td>\n",
       "      <td>2021-01-22 02:11:02.000 Z</td>\n",
       "    </tr>\n",
       "    <tr>\n",
       "      <th>2</th>\n",
       "      <td>05f51c586ada891448ab56d9a5c8adb2a688e2fb</td>\n",
       "      <td>White House wants Democrats to be patient on s...</td>\n",
       "      <td>https://www.cnn.com/2021/01/22/politics/covid-...</td>\n",
       "      <td>2021-01-22 21:53:55.000 Z</td>\n",
       "    </tr>\n",
       "    <tr>\n",
       "      <th>3</th>\n",
       "      <td>91333a3c6d28c9241cbb01678a97699232b79e70</td>\n",
       "      <td>The Supreme Court's run out of excuses to avoi...</td>\n",
       "      <td>https://www.cnn.com/2021/01/24/politics/suprem...</td>\n",
       "      <td>2021-01-24 18:42:26.000 Z</td>\n",
       "    </tr>\n",
       "    <tr>\n",
       "      <th>4</th>\n",
       "      <td>30170d08779c54b84170d4cb3b5cbe0462df704a</td>\n",
       "      <td>Evidence shows Capitol rioters brutally attack...</td>\n",
       "      <td>https://www.cnn.com/2021/01/21/politics/capito...</td>\n",
       "      <td>2021-01-21 12:45:30.000 Z</td>\n",
       "    </tr>\n",
       "  </tbody>\n",
       "</table>\n",
       "<p>475 rows × 4 columns</p>\n",
       "</div>"
      ],
      "text/plain": [
       "                                  article_id  \\\n",
       "0   e9d06b2bb42bd9970de43beab2d3893534d7a619   \n",
       "1   e98b0d02b16794bc0884a61c4a45746cb9430630   \n",
       "2   05f51c586ada891448ab56d9a5c8adb2a688e2fb   \n",
       "3   91333a3c6d28c9241cbb01678a97699232b79e70   \n",
       "4   30170d08779c54b84170d4cb3b5cbe0462df704a   \n",
       "..                                       ...   \n",
       "0   e9d06b2bb42bd9970de43beab2d3893534d7a619   \n",
       "1   e98b0d02b16794bc0884a61c4a45746cb9430630   \n",
       "2   05f51c586ada891448ab56d9a5c8adb2a688e2fb   \n",
       "3   91333a3c6d28c9241cbb01678a97699232b79e70   \n",
       "4   30170d08779c54b84170d4cb3b5cbe0462df704a   \n",
       "\n",
       "                                             headline  \\\n",
       "0   Defense Department slams brakes on border wall...   \n",
       "1   Biden's DOJ must confront what to do with outs...   \n",
       "2   White House wants Democrats to be patient on s...   \n",
       "3   The Supreme Court's run out of excuses to avoi...   \n",
       "4   Evidence shows Capitol rioters brutally attack...   \n",
       "..                                                ...   \n",
       "0   Defense Department slams brakes on border wall...   \n",
       "1   Biden's DOJ must confront what to do with outs...   \n",
       "2   White House wants Democrats to be patient on s...   \n",
       "3   The Supreme Court's run out of excuses to avoi...   \n",
       "4   Evidence shows Capitol rioters brutally attack...   \n",
       "\n",
       "                                                  url  \\\n",
       "0   https://www.cnn.com/2021/01/21/politics/border...   \n",
       "1   https://www.cnn.com/2021/01/21/politics/donald...   \n",
       "2   https://www.cnn.com/2021/01/22/politics/covid-...   \n",
       "3   https://www.cnn.com/2021/01/24/politics/suprem...   \n",
       "4   https://www.cnn.com/2021/01/21/politics/capito...   \n",
       "..                                                ...   \n",
       "0   https://www.cnn.com/2021/01/21/politics/border...   \n",
       "1   https://www.cnn.com/2021/01/21/politics/donald...   \n",
       "2   https://www.cnn.com/2021/01/22/politics/covid-...   \n",
       "3   https://www.cnn.com/2021/01/24/politics/suprem...   \n",
       "4   https://www.cnn.com/2021/01/21/politics/capito...   \n",
       "\n",
       "               published_date  \n",
       "0   2021-01-21 21:45:03.000 Z  \n",
       "1   2021-01-22 02:11:02.000 Z  \n",
       "2   2021-01-22 21:53:55.000 Z  \n",
       "3   2021-01-24 18:42:26.000 Z  \n",
       "4   2021-01-21 12:45:30.000 Z  \n",
       "..                        ...  \n",
       "0   2021-01-21 21:45:03.000 Z  \n",
       "1   2021-01-22 02:11:02.000 Z  \n",
       "2   2021-01-22 21:53:55.000 Z  \n",
       "3   2021-01-24 18:42:26.000 Z  \n",
       "4   2021-01-21 12:45:30.000 Z  \n",
       "\n",
       "[475 rows x 4 columns]"
      ]
     },
     "execution_count": 385,
     "metadata": {},
     "output_type": "execute_result"
    }
   ],
   "source": [
    "pd.concat(dfs)"
   ]
  },
  {
   "cell_type": "code",
   "execution_count": null,
   "metadata": {},
   "outputs": [],
   "source": []
  },
  {
   "cell_type": "code",
   "execution_count": null,
   "metadata": {},
   "outputs": [],
   "source": []
  },
  {
   "cell_type": "code",
   "execution_count": null,
   "metadata": {},
   "outputs": [],
   "source": []
  },
  {
   "cell_type": "code",
   "execution_count": null,
   "metadata": {},
   "outputs": [],
   "source": []
  },
  {
   "cell_type": "code",
   "execution_count": null,
   "metadata": {},
   "outputs": [],
   "source": []
  },
  {
   "cell_type": "code",
   "execution_count": null,
   "metadata": {},
   "outputs": [],
   "source": []
  }
 ],
 "metadata": {
  "kernelspec": {
   "display_name": "Python 3",
   "language": "python",
   "name": "python3"
  },
  "language_info": {
   "codemirror_mode": {
    "name": "ipython",
    "version": 3
   },
   "file_extension": ".py",
   "mimetype": "text/x-python",
   "name": "python",
   "nbconvert_exporter": "python",
   "pygments_lexer": "ipython3",
   "version": "3.8.9"
  }
 },
 "nbformat": 4,
 "nbformat_minor": 2
}
